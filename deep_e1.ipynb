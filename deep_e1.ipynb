{
 "cells": [
  {
   "cell_type": "code",
   "execution_count": null,
   "metadata": {
    "ExecuteTime": {
     "end_time": "2020-02-01T12:24:42.182999Z",
     "start_time": "2020-02-01T12:24:40.993357Z"
    }
   },
   "outputs": [],
   "source": [
    "#!/usr/bin/env python\n",
    "# coding: utf-8\n",
    "# In[1]:\n",
    "#!/usr/bin/env python\n",
    "# coding: utf-8\n",
    "# get_ipython().run_line_magic('matplotlib', 'inline')\n",
    "import pandas as pd\n",
    "import time\n",
    "import numpy as np\n",
    "from datetime import datetime\n",
    "from sklearn.externals import joblib \n",
    "import os\n",
    "import glob\n",
    "from konlpy.tag import Mecab\n",
    "import lightgbm as lgb\n",
    "print(lgb.__version__)\n",
    "from sklearn import metrics\n",
    "from sklearn.preprocessing import MinMaxScaler\n",
    "from sklearn.externals import joblib \n",
    "from sklearn.model_selection import StratifiedKFold, KFold\n",
    "import gc\n",
    "from tqdm import tqdm_notebook, tqdm\n",
    "import json\n",
    "from typing import NamedTuple\n",
    "from sklearn.model_selection import train_test_split\n",
    "from sklearn.model_selection import StratifiedKFold\n",
    "\n",
    "import warnings\n",
    "warnings.filterwarnings(action='ignore')\n",
    "import torch\n",
    "import torch.nn as nn\n",
    "import torch.nn.functional as F\n",
    "from torch.utils.data import Dataset, DataLoader\n",
    "from torch.optim.lr_scheduler import StepLR\n",
    "print(torch.__version__)\n",
    "# from tools import eval_summary, save_feature_importance, merge_preds\n",
    "from tools import EarlyStopping\n",
    "\n",
    "device = torch.device('cpu')\n",
    "if torch.cuda.is_available():\n",
    "    print(torch.cuda.get_device_name(0))\n",
    "    device = torch.device(\"cuda:0\" if torch.cuda.is_available() else \"cpu\")\n",
    "device"
   ]
  },
  {
   "cell_type": "code",
   "execution_count": null,
   "metadata": {
    "ExecuteTime": {
     "end_time": "2020-02-01T12:24:42.186324Z",
     "start_time": "2020-02-01T12:24:42.183958Z"
    }
   },
   "outputs": [],
   "source": [
    "# In[2]:\n",
    "torch.set_num_threads(8)\n",
    "torch.get_num_threads()"
   ]
  },
  {
   "cell_type": "code",
   "execution_count": null,
   "metadata": {
    "ExecuteTime": {
     "end_time": "2020-02-01T12:24:42.199099Z",
     "start_time": "2020-02-01T12:24:42.187306Z"
    }
   },
   "outputs": [],
   "source": [
    "class SemiDataset(Dataset):\n",
    "    def __init__(self, df, fea_cols, y_cols):        \n",
    "        self.X = df[fea_cols].values\n",
    "        self.y = df[y_cols].values\n",
    "        \n",
    "    def __len__(self):\n",
    "        return len(self.X)\n",
    "    \n",
    "    def __getitem__(self, idx):\n",
    "        return self.X[idx].astype(np.float32), self.y[idx].astype(np.float32)\n",
    "    \n",
    "    "
   ]
  },
  {
   "cell_type": "code",
   "execution_count": null,
   "metadata": {
    "ExecuteTime": {
     "end_time": "2020-02-01T12:24:42.205741Z",
     "start_time": "2020-02-01T12:24:42.200485Z"
    }
   },
   "outputs": [],
   "source": [
    "torch.manual_seed(81511991154)\n",
    "torch.initial_seed()\n"
   ]
  },
  {
   "cell_type": "markdown",
   "metadata": {},
   "source": [
    "#### Model"
   ]
  },
  {
   "cell_type": "code",
   "execution_count": null,
   "metadata": {
    "ExecuteTime": {
     "end_time": "2020-02-01T12:24:42.219565Z",
     "start_time": "2020-02-01T12:24:42.206864Z"
    }
   },
   "outputs": [],
   "source": [
    "class Trainer(object):\n",
    "    def __init__(self, model, criterion, optimizer, scheduler, device):\n",
    "        self.device = device\n",
    "        self.model = model#.to(self.device)\n",
    "        self.criterion = criterion#.to(self.device)\n",
    "        self.optimizer = optimizer\n",
    "        self.scheduler = scheduler\n",
    "\n",
    "        print(self.model.train())\n",
    "        pass\n",
    "    \n",
    "    def set_optimizer(self, optimizer):\n",
    "        self.optimizer = optimizer\n",
    "        \n",
    "    def set_scheduler(self, scheduler):\n",
    "        self.scheduler = scheduler\n",
    "        \n",
    "    def train_(self, X_batch, y_batch):\n",
    "        self.model.train()\n",
    "        total_loss = 0\n",
    "        X_batch = X_batch.to(self.device)\n",
    "        y_batch = y_batch.to(self.device)\n",
    "\n",
    "        y_pred = self.model(X_batch)\n",
    "#             print(y_pred, y_batch)\n",
    "\n",
    "        loss = self.criterion(y_pred, y_batch)\n",
    "        total_loss = total_loss + loss.item()\n",
    "\n",
    "        self.optimizer.zero_grad()\n",
    "        loss.backward()\n",
    "        self.optimizer.step()\n",
    "        self.scheduler.step()\n",
    "        \n",
    "        return total_loss\n",
    "    \n",
    "    def train(self, data_loader):\n",
    "        self.model.train()\n",
    "        total_loss = 0\n",
    "        for data in data_loader:\n",
    "            X_batch, y_batch = data\n",
    "            X_batch = X_batch.to(self.device)\n",
    "            y_batch = y_batch.to(self.device)\n",
    "            \n",
    "            y_pred = self.model(X_batch)\n",
    "#             print(y_pred, y_batch)\n",
    "            \n",
    "            loss = self.criterion(y_pred, y_batch)\n",
    "            total_loss = total_loss + loss.item()\n",
    "\n",
    "            self.optimizer.zero_grad()\n",
    "            loss.backward()\n",
    "            self.optimizer.step()\n",
    "        self.scheduler.step()\n",
    "        \n",
    "        return total_loss / len(data_loader)\n",
    "    \n",
    "    def eval(self, data_loader):\n",
    "        self.model.eval()\n",
    "        total_loss = 0\n",
    "#         print('valid_loader', len(valid_loader))\n",
    "        for data in data_loader:\n",
    "            X_batch, y_batch = data\n",
    "            X_batch = X_batch.to(self.device)\n",
    "            y_batch = y_batch.to(self.device)\n",
    "            with torch.no_grad():\n",
    "                y_pred = self.model(X_batch)\n",
    "                loss = self.criterion(y_pred, y_batch)\n",
    "                total_loss = total_loss + loss.item()\n",
    "        return total_loss / len(data_loader)\n",
    "\n",
    "    def save(self, model_path='checkpoint.pt'):\n",
    "        joblib.dump(self.model, model_path)\n",
    "        return\n",
    "    \n",
    "    def load(self, model_path='checkpoint.pt'):\n",
    "        self.model = joblib.load(model_path)\n",
    "        return"
   ]
  },
  {
   "cell_type": "code",
   "execution_count": null,
   "metadata": {
    "ExecuteTime": {
     "end_time": "2020-02-01T12:24:42.305157Z",
     "start_time": "2020-02-01T12:24:42.220327Z"
    }
   },
   "outputs": [],
   "source": [
    "df_train = joblib.load('df_pred_train_10.pkl')\n",
    "df_valid = joblib.load('df_pred_valid_10.pkl')\n",
    "df_score = joblib.load('df_pred_score_10.pkl')"
   ]
  },
  {
   "cell_type": "code",
   "execution_count": null,
   "metadata": {
    "ExecuteTime": {
     "end_time": "2020-02-01T12:24:42.310128Z",
     "start_time": "2020-02-01T12:24:42.306110Z"
    }
   },
   "outputs": [],
   "source": [
    "class DNNModel(torch.nn.Module):\n",
    "    def __init__(self, input_size, dropout_probability=0.3, dims=32):\n",
    "        super(DNNModel,self).__init__()\n",
    "        act = torch.nn.ELU()\n",
    "        dropout = torch.nn.Dropout(p=dropout_probability)\n",
    "\n",
    "        self.m1 = torch.nn.Sequential(\n",
    "            torch.nn.Linear(input_size, dims), torch.nn.BatchNorm1d(dims), act, dropout, \n",
    "            torch.nn.Linear(dims, dims), torch.nn.BatchNorm1d(dims), act, dropout, \n",
    "            torch.nn.Linear(dims, dims), torch.nn.BatchNorm1d(dims), act, dropout,\n",
    "#             torch.nn.Linear(dims, dims), torch.nn.BatchNorm1d(dims), act, dropout,\n",
    "#             torch.nn.Linear(dims, dims), torch.nn.BatchNorm1d(dims), act, dropout,\n",
    "            torch.nn.Linear(dims, dims), torch.nn.BatchNorm1d(dims), act, dropout,\n",
    "            torch.nn.Linear(dims, 1)\n",
    "        )\n",
    "    def forward(self, x):\n",
    "        return self.m1(x)\n",
    " "
   ]
  },
  {
   "cell_type": "code",
   "execution_count": null,
   "metadata": {
    "ExecuteTime": {
     "end_time": "2020-02-01T12:24:43.757160Z",
     "start_time": "2020-02-01T12:24:42.311234Z"
    }
   },
   "outputs": [],
   "source": [
    "X_batch = []\n",
    "y_batch = []\n",
    "for i in [1, 2, 3, 4]:\n",
    "    layer_cols = [f'layer_{i}']\n",
    "    fea_cols = [c for c in df_train.columns if c not in layer_cols and c[-1] == str(i)]\n",
    "    X_batch.append(torch.Tensor(df_train[fea_cols].values).to(device))\n",
    "    y_batch.append(torch.Tensor(df_train[layer_cols].values).to(device))\n"
   ]
  },
  {
   "cell_type": "code",
   "execution_count": null,
   "metadata": {
    "ExecuteTime": {
     "end_time": "2020-02-01T12:59:43.258805Z",
     "start_time": "2020-02-01T12:39:01.108944Z"
    },
    "scrolled": true
   },
   "outputs": [],
   "source": [
    "for dims in range(192, 550, 32):\n",
    "    print('dims', dims)\n",
    "    model_ts = datetime.now().strftime('%Y%m%dT%H%M%S')\n",
    "    for i in [1, 2, 3, 4]:\n",
    "        layer_cols = [f'layer_{i}']\n",
    "        fea_cols = [c for c in df_train.columns if c not in layer_cols and c[-1] == str(i)]\n",
    "        print(fea_cols)\n",
    "        print(layer_cols)\n",
    "\n",
    "        val_set = SemiDataset(df_valid, fea_cols, layer_cols)\n",
    "\n",
    "        print(len(val_set))\n",
    "\n",
    "        num_workers = 8\n",
    "\n",
    "        val_loader = DataLoader(dataset=val_set, batch_size=110000)\n",
    "\n",
    "        model = DNNModel(input_size=len(fea_cols), dropout_probability=0, dims=dims).to(device)\n",
    "\n",
    "        criterion = nn.L1Loss(reduction='mean').to(device)\n",
    "        optimizer = torch.optim.AdamW(model.parameters(), lr=0.1)\n",
    "        scheduler = StepLR(optimizer, step_size=50, gamma=1.0)\n",
    "        trainer = Trainer(model, criterion, optimizer, scheduler, device)\n",
    "\n",
    "\n",
    "        val_loss_min = np.Inf\n",
    "\n",
    "        lr_list = [\n",
    "            (0.01, 100),\n",
    "            (0.001, 100),\n",
    "            (0.0001, 100),\n",
    "            (0.00003, 100),\n",
    "            (0.00001, 100),\n",
    "            (0.000005, 100),\n",
    "        ]\n",
    "\n",
    "\n",
    "        total_epoch = 10000\n",
    "\n",
    "        for lr, patience in lr_list:\n",
    "            print(lr, patience)\n",
    "            if os.path.isfile('stop.flag'):\n",
    "                print('stop!')\n",
    "                break\n",
    "\n",
    "            early_stopping = EarlyStopping(patience=patience, min_epoch=1, verbose=True)\n",
    "            early_stopping.val_loss_min = val_loss_min\n",
    "            early_stopping.best_score = None if val_loss_min==np.Inf else -val_loss_min \n",
    "\n",
    "        #     criterion = nn.L1Loss(reduction='mean').to(device)\n",
    "\n",
    "            trainer.optimizer = torch.optim.Adam(model.parameters(), lr=lr)\n",
    "        #     trainer.optimizer = torch.optim.AdamW(model.parameters(), lr=lr)\n",
    "        #     trainer.optimizer = torch.optim.SGD(model.parameters(), lr=lr)\n",
    "\n",
    "            trainer.scheduler = StepLR(trainer.optimizer, step_size=50, gamma=1.0)\n",
    "\n",
    "            for e in tqdm_notebook(range(total_epoch), total=total_epoch, desc='Epoch'):\n",
    "                if os.path.isfile('stop.flag'):\n",
    "                    print(f'{e} stop!')\n",
    "                    break\n",
    "\n",
    "#                 train_loss = trainer.train(train_loader)\n",
    "                train_loss = trainer.train_(X_batch[i], y_batch[i])\n",
    "\n",
    "                if e % 1 == 0:\n",
    "                    valid_loss = trainer.eval(val_loader)\n",
    "            #         valid_loss = train_loss\n",
    "\n",
    "                    ts = datetime.now().strftime('%Y%m%dT%H%M%S')\n",
    "                    print(f'[{ts}] Epock {e} / {total_epoch}\\t lr {trainer.scheduler.get_lr()[0]}')\n",
    "                    print(f'  train_loss: {train_loss}  valid_loss: {valid_loss}')\n",
    "\n",
    "                    early_stopping(valid_loss, model)\n",
    "\n",
    "                    if early_stopping.early_stop:\n",
    "                        print(\"\\tEarly stopping epoch {}, valid loss {}\".format(e, early_stopping.val_loss_min))\n",
    "                        break\n",
    "\n",
    "            model.load_state_dict(torch.load('model/checkpoint.pt'))\n",
    "            val_loss_min = early_stopping.val_loss_min\n",
    "\n",
    "\n",
    "\n",
    "            print(model_ts)\n",
    "            model_path = 'model/{}_e{}_{}_{}'.format(model_ts, dims, i, val_loss_min)\n",
    "            trainer.save('{}.model'.format(model_path))\n",
    "            print(model_path)\n",
    "\n",
    "    #     break\n",
    "\n"
   ]
  },
  {
   "cell_type": "code",
   "execution_count": null,
   "metadata": {
    "ExecuteTime": {
     "end_time": "2020-02-01T12:37:30.234617Z",
     "start_time": "2020-02-01T12:24:41.008Z"
    }
   },
   "outputs": [],
   "source": [
    "# e_models =[\n",
    "#     'model/20200131T225354_e1_0.32568883895874023.model',\n",
    "#     'model/20200131T225354_e2_0.5253744721412659.model',\n",
    "#     'model/20200131T225354_e3_0.3913254737854004.model',\n",
    "#     'model/20200131T225354_e4_0.3752939999103546.model',\n",
    "# ]\n",
    "\n",
    "# for i in range(1, 5):\n",
    "#     layer_cols = [f'layer_{i}']\n",
    "#     fea_cols = [c for c in df_score.columns if c not in layer_cols and c[-1] == str(i)]\n",
    "#     print(fea_cols)\n",
    "#     print(layer_cols)\n",
    "#     y_pred = joblib.load(e_models[i-1])(torch.Tensor(df_score[fea_cols].values).to(device))    \n",
    "#     df_score[layer_cols[0]] = y_pred.cpu().detach().numpy()\n",
    "#     print(df_score[layer_cols + fea_cols])\n",
    "\n"
   ]
  },
  {
   "cell_type": "code",
   "execution_count": null,
   "metadata": {
    "ExecuteTime": {
     "end_time": "2020-02-01T12:37:30.235133Z",
     "start_time": "2020-02-01T12:24:41.010Z"
    }
   },
   "outputs": [],
   "source": [
    "# e_models = [\n",
    "#     'model/e_1_20200131T202847_0.322307288646698.model',\n",
    "# #     'model/e_1_20200131T221837_0.33561456203460693.model',\n",
    "#     'model/e_2_20200131T213251_0.5193350911140442.model',\n",
    "#     'model/e_3_20200131T214620_0.38977283239364624.model',\n",
    "#     'model/e_4_20200131T211402_0.37712812423706055.model',\n",
    "# #     'model/e_4_20200131T220102_0.3780273497104645.model',\n",
    "# #     'model/e_3_20200131T214620_0.38977283239364624.model',\n",
    "# #     'model/e_4_20200131T211402_0.37712812423706055.model',\n",
    "# #     'model/e_3_20200131T205640_0.3976164758205414.model',\n",
    "# # #     'model/e_2_20200131T204154_0.5304651260375977.model',\n",
    "# #     'model/e_1_20200131T202847_0.322307288646698.model',\n",
    "# ]\n",
    "# for i in range(1, 5):\n",
    "#     layer_cols = [f'layer_{i}']\n",
    "#     fea_cols = [c for c in df_score.columns if c not in layer_cols and c[-1] == str(i)]\n",
    "#     print(fea_cols)\n",
    "#     print(layer_cols)\n",
    "#     y_pred = joblib.load(e_models[i-1])(torch.Tensor(df_score[fea_cols].values).to(device))    \n",
    "#     df_score[layer_cols[0]] = y_pred.cpu().detach().numpy()\n",
    "#     print(df_score[layer_cols + fea_cols])"
   ]
  },
  {
   "cell_type": "code",
   "execution_count": null,
   "metadata": {
    "ExecuteTime": {
     "end_time": "2020-02-01T12:37:30.235500Z",
     "start_time": "2020-02-01T12:24:41.012Z"
    }
   },
   "outputs": [],
   "source": [
    "df_score.index.name = 'id'\n",
    "layer_cols = [c for c in df_score.columns if 'la' in c]\n",
    "ts = datetime.now().strftime('%Y%m%dT%H%M%S')\n",
    "df_score[layer_cols].to_csv(f'submit/{ts}_e.csv')"
   ]
  },
  {
   "cell_type": "code",
   "execution_count": null,
   "metadata": {
    "ExecuteTime": {
     "end_time": "2020-02-01T12:37:30.235910Z",
     "start_time": "2020-02-01T12:24:41.014Z"
    }
   },
   "outputs": [],
   "source": [
    "\n",
    "\n",
    "# #### Pred Train\n",
    "\n",
    "# criterion = nn.L1Loss(reduction='mean').to(device)\n",
    "# model.train()\n",
    "# total_loss = 0\n",
    "# preds = []\n",
    "# y_true = []\n",
    "# for data in train_loader:\n",
    "#     X_batch, y_batch = data\n",
    "#     X_batch = X_batch.to(device)\n",
    "#     y_batch = y_batch.to(device)\n",
    "#     y_true.extend(y_batch)\n",
    "    \n",
    "#     with torch.no_grad():\n",
    "#         y_pred = model(X_batch)\n",
    "#         preds.extend(y_pred)\n",
    "#         loss = criterion(y_pred, y_batch)\n",
    "#         total_loss = total_loss + loss.item()\n",
    "        \n",
    "# train_loss_min = total_loss / len(train_loader)\n",
    "# train_loss_min\n",
    "\n",
    "# y_true\n",
    "\n",
    "# preds\n",
    "\n",
    "# #### Pred Valid\n",
    "\n",
    "# criterion = nn.L1Loss(reduction='mean').to(device)\n",
    "# model.eval()\n",
    "# total_loss = 0\n",
    "# for data in val_loader:\n",
    "#     X_batch, y_batch = data\n",
    "#     X_batch = X_batch.to(device)\n",
    "#     y_batch = y_batch.to(device)\n",
    "    \n",
    "#     with torch.no_grad():\n",
    "#         y_pred = model(X_batch)\n",
    "#         loss = criterion(y_pred, y_batch)\n",
    "#         total_loss = total_loss + loss.item()\n",
    "        \n",
    "# val_loss_min = total_loss / len(val_loader)\n",
    "# val_loss_min\n",
    "\n",
    "# #### Pred Test \n",
    "\n",
    "# model.eval()\n",
    "# y_pred = model(torch.Tensor(df_test[fea_cols].values).to(device))    \n",
    "# print(y_pred)\n",
    "\n",
    "# ts = datetime.now().strftime('%Y%m%dT%H%M%S')\n",
    "\n",
    "# df_submit = pd.read_csv('input/sample_submission.csv', index_col=0)\n",
    "\n",
    "# df_submit[layer_cols] = y_pred.cpu().detach().numpy()\n",
    "# df_submit.to_csv(f'submit/{ts}_{val_loss_min}.csv')\n",
    "\n",
    "# print(ts, val_loss_min)\n",
    "\n",
    "# # model.load_state_dict(torch.load('model/20200123T215856_0.6811393996079763.model'))\n",
    "\n"
   ]
  },
  {
   "cell_type": "code",
   "execution_count": null,
   "metadata": {},
   "outputs": [],
   "source": []
  },
  {
   "cell_type": "code",
   "execution_count": null,
   "metadata": {},
   "outputs": [],
   "source": []
  }
 ],
 "metadata": {
  "kernelspec": {
   "display_name": "Python 3",
   "language": "python",
   "name": "python3"
  },
  "language_info": {
   "codemirror_mode": {
    "name": "ipython",
    "version": 3
   },
   "file_extension": ".py",
   "mimetype": "text/x-python",
   "name": "python",
   "nbconvert_exporter": "python",
   "pygments_lexer": "ipython3",
   "version": "3.7.4"
  },
  "toc": {
   "base_numbering": 1,
   "nav_menu": {},
   "number_sections": true,
   "sideBar": true,
   "skip_h1_title": false,
   "title_cell": "Table of Contents",
   "title_sidebar": "Contents",
   "toc_cell": false,
   "toc_position": {
    "height": "calc(100% - 180px)",
    "left": "10px",
    "top": "150px",
    "width": "166px"
   },
   "toc_section_display": true,
   "toc_window_display": true
  }
 },
 "nbformat": 4,
 "nbformat_minor": 2
}
