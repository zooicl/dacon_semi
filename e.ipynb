{
 "cells": [
  {
   "cell_type": "code",
   "execution_count": 9,
   "metadata": {
    "ExecuteTime": {
     "end_time": "2020-01-31T15:14:13.422718Z",
     "start_time": "2020-01-31T15:14:13.364734Z"
    }
   },
   "outputs": [],
   "source": [
    "import pandas as pd"
   ]
  },
  {
   "cell_type": "code",
   "execution_count": 3,
   "metadata": {
    "ExecuteTime": {
     "end_time": "2020-01-28T08:39:54.858913Z",
     "start_time": "2020-01-28T08:39:54.843680Z"
    }
   },
   "outputs": [],
   "source": [
    "\n",
    "df = pd.read_csv('submit/20200126T092716_e2.csv', index_col=0)"
   ]
  },
  {
   "cell_type": "code",
   "execution_count": 8,
   "metadata": {
    "ExecuteTime": {
     "end_time": "2020-01-28T08:40:42.317243Z",
     "start_time": "2020-01-28T08:40:42.269179Z"
    }
   },
   "outputs": [],
   "source": [
    "df.round().to_csv('submit/20200126T092716_e2_round.csv')"
   ]
  },
  {
   "cell_type": "code",
   "execution_count": 10,
   "metadata": {
    "ExecuteTime": {
     "end_time": "2020-01-31T15:14:18.936414Z",
     "start_time": "2020-01-31T15:14:18.790321Z"
    }
   },
   "outputs": [],
   "source": [
    "# df1 = pd.read_csv('submit/20200124T235635_0.4282313088575999.csv', index_col=0)\n",
    "# df2 = pd.read_csv('submit/20200123T101217_0.5488672057787577.csv', index_col=0)\n",
    "# df3 = pd.read_csv('submit/20200124T234826_0.5340496599674225.csv', index_col=0)\n",
    "\n",
    "\n",
    "df1 = pd.read_csv('submit/e3.csv', index_col=0)\n",
    "df2 = pd.read_csv('submit/e4.csv', index_col=0)\n"
   ]
  },
  {
   "cell_type": "code",
   "execution_count": 11,
   "metadata": {
    "ExecuteTime": {
     "end_time": "2020-01-31T15:14:19.985366Z",
     "start_time": "2020-01-31T15:14:19.970657Z"
    }
   },
   "outputs": [],
   "source": [
    "df_submit = pd.read_csv('input/sample_submission.csv', index_col=0)"
   ]
  },
  {
   "cell_type": "code",
   "execution_count": 12,
   "metadata": {
    "ExecuteTime": {
     "end_time": "2020-01-31T15:14:21.778540Z",
     "start_time": "2020-01-31T15:14:21.676355Z"
    }
   },
   "outputs": [],
   "source": [
    "for c in ['layer_1', 'layer_2', 'layer_3', 'layer_4']:\n",
    "    df_submit[c] = (df1[c] + df2[c]) / 2"
   ]
  },
  {
   "cell_type": "code",
   "execution_count": 13,
   "metadata": {
    "ExecuteTime": {
     "end_time": "2020-01-31T15:14:25.304354Z",
     "start_time": "2020-01-31T15:14:25.220407Z"
    }
   },
   "outputs": [],
   "source": [
    "from datetime import datetime\n",
    "ts = datetime.now().strftime('%Y%m%dT%H%M%S')\n",
    "df_submit.to_csv(f'submit/{ts}_e5.csv')"
   ]
  },
  {
   "cell_type": "code",
   "execution_count": 14,
   "metadata": {
    "ExecuteTime": {
     "end_time": "2020-01-31T15:14:27.023451Z",
     "start_time": "2020-01-31T15:14:26.981731Z"
    }
   },
   "outputs": [
    {
     "data": {
      "text/html": [
       "<div>\n",
       "<style scoped>\n",
       "    .dataframe tbody tr th:only-of-type {\n",
       "        vertical-align: middle;\n",
       "    }\n",
       "\n",
       "    .dataframe tbody tr th {\n",
       "        vertical-align: top;\n",
       "    }\n",
       "\n",
       "    .dataframe thead th {\n",
       "        text-align: right;\n",
       "    }\n",
       "</style>\n",
       "<table border=\"1\" class=\"dataframe\">\n",
       "  <thead>\n",
       "    <tr style=\"text-align: right;\">\n",
       "      <th></th>\n",
       "      <th>layer_1</th>\n",
       "      <th>layer_2</th>\n",
       "      <th>layer_3</th>\n",
       "      <th>layer_4</th>\n",
       "    </tr>\n",
       "    <tr>\n",
       "      <th>id</th>\n",
       "      <th></th>\n",
       "      <th></th>\n",
       "      <th></th>\n",
       "      <th></th>\n",
       "    </tr>\n",
       "  </thead>\n",
       "  <tbody>\n",
       "    <tr>\n",
       "      <td>0</td>\n",
       "      <td>254.424645</td>\n",
       "      <td>229.763345</td>\n",
       "      <td>131.570375</td>\n",
       "      <td>85.167407</td>\n",
       "    </tr>\n",
       "    <tr>\n",
       "      <td>1</td>\n",
       "      <td>158.798235</td>\n",
       "      <td>127.404355</td>\n",
       "      <td>237.399050</td>\n",
       "      <td>97.992535</td>\n",
       "    </tr>\n",
       "    <tr>\n",
       "      <td>2</td>\n",
       "      <td>148.089485</td>\n",
       "      <td>179.373990</td>\n",
       "      <td>273.062475</td>\n",
       "      <td>157.082055</td>\n",
       "    </tr>\n",
       "    <tr>\n",
       "      <td>3</td>\n",
       "      <td>91.881985</td>\n",
       "      <td>228.744875</td>\n",
       "      <td>189.282585</td>\n",
       "      <td>82.718120</td>\n",
       "    </tr>\n",
       "    <tr>\n",
       "      <td>4</td>\n",
       "      <td>273.904585</td>\n",
       "      <td>294.817270</td>\n",
       "      <td>244.825750</td>\n",
       "      <td>271.766480</td>\n",
       "    </tr>\n",
       "    <tr>\n",
       "      <td>...</td>\n",
       "      <td>...</td>\n",
       "      <td>...</td>\n",
       "      <td>...</td>\n",
       "      <td>...</td>\n",
       "    </tr>\n",
       "    <tr>\n",
       "      <td>9995</td>\n",
       "      <td>112.948500</td>\n",
       "      <td>95.870945</td>\n",
       "      <td>84.257098</td>\n",
       "      <td>54.896385</td>\n",
       "    </tr>\n",
       "    <tr>\n",
       "      <td>9996</td>\n",
       "      <td>79.453095</td>\n",
       "      <td>258.382760</td>\n",
       "      <td>125.139030</td>\n",
       "      <td>102.948730</td>\n",
       "    </tr>\n",
       "    <tr>\n",
       "      <td>9997</td>\n",
       "      <td>47.738778</td>\n",
       "      <td>256.597185</td>\n",
       "      <td>263.623390</td>\n",
       "      <td>28.688377</td>\n",
       "    </tr>\n",
       "    <tr>\n",
       "      <td>9998</td>\n",
       "      <td>29.861098</td>\n",
       "      <td>23.398052</td>\n",
       "      <td>145.767450</td>\n",
       "      <td>78.132110</td>\n",
       "    </tr>\n",
       "    <tr>\n",
       "      <td>9999</td>\n",
       "      <td>147.152390</td>\n",
       "      <td>17.621890</td>\n",
       "      <td>16.888663</td>\n",
       "      <td>81.722092</td>\n",
       "    </tr>\n",
       "  </tbody>\n",
       "</table>\n",
       "<p>10000 rows × 4 columns</p>\n",
       "</div>"
      ],
      "text/plain": [
       "         layer_1     layer_2     layer_3     layer_4\n",
       "id                                                  \n",
       "0     254.424645  229.763345  131.570375   85.167407\n",
       "1     158.798235  127.404355  237.399050   97.992535\n",
       "2     148.089485  179.373990  273.062475  157.082055\n",
       "3      91.881985  228.744875  189.282585   82.718120\n",
       "4     273.904585  294.817270  244.825750  271.766480\n",
       "...          ...         ...         ...         ...\n",
       "9995  112.948500   95.870945   84.257098   54.896385\n",
       "9996   79.453095  258.382760  125.139030  102.948730\n",
       "9997   47.738778  256.597185  263.623390   28.688377\n",
       "9998   29.861098   23.398052  145.767450   78.132110\n",
       "9999  147.152390   17.621890   16.888663   81.722092\n",
       "\n",
       "[10000 rows x 4 columns]"
      ]
     },
     "execution_count": 14,
     "metadata": {},
     "output_type": "execute_result"
    }
   ],
   "source": [
    "df_submit"
   ]
  },
  {
   "cell_type": "code",
   "execution_count": null,
   "metadata": {},
   "outputs": [],
   "source": []
  }
 ],
 "metadata": {
  "kernelspec": {
   "display_name": "Python 3",
   "language": "python",
   "name": "python3"
  },
  "language_info": {
   "codemirror_mode": {
    "name": "ipython",
    "version": 3
   },
   "file_extension": ".py",
   "mimetype": "text/x-python",
   "name": "python",
   "nbconvert_exporter": "python",
   "pygments_lexer": "ipython3",
   "version": "3.7.4"
  },
  "toc": {
   "base_numbering": 1,
   "nav_menu": {},
   "number_sections": true,
   "sideBar": true,
   "skip_h1_title": false,
   "title_cell": "Table of Contents",
   "title_sidebar": "Contents",
   "toc_cell": false,
   "toc_position": {},
   "toc_section_display": true,
   "toc_window_display": false
  }
 },
 "nbformat": 4,
 "nbformat_minor": 2
}
