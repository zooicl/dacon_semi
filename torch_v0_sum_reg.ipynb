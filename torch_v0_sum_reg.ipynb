{
 "cells": [
  {
   "cell_type": "code",
   "execution_count": null,
   "metadata": {
    "ExecuteTime": {
     "end_time": "2020-01-14T01:33:22.345856Z",
     "start_time": "2020-01-14T01:33:21.667904Z"
    }
   },
   "outputs": [],
   "source": [
    "#!/usr/bin/env python\n",
    "# coding: utf-8\n",
    "# In[1]:\n",
    "#!/usr/bin/env python\n",
    "# coding: utf-8\n",
    "# get_ipython().run_line_magic('matplotlib', 'inline')\n",
    "import pandas as pd\n",
    "import time\n",
    "import numpy as np\n",
    "from datetime import datetime\n",
    "from sklearn.externals import joblib \n",
    "import os\n",
    "import glob\n",
    "from konlpy.tag import Mecab\n",
    "import lightgbm as lgb\n",
    "print(lgb.__version__)\n",
    "from sklearn import metrics\n",
    "from sklearn.preprocessing import MinMaxScaler\n",
    "from sklearn.externals import joblib \n",
    "from sklearn.model_selection import StratifiedKFold, KFold\n",
    "import gc\n",
    "from tqdm import tqdm_notebook, tqdm\n",
    "import json\n",
    "from typing import NamedTuple\n",
    "from sklearn.model_selection import train_test_split\n",
    "from sklearn.model_selection import StratifiedKFold\n",
    "import warnings\n",
    "warnings.filterwarnings(action='ignore')\n",
    "import torch\n",
    "import torch.nn as nn\n",
    "import torch.nn.functional as F\n",
    "from torch.utils.data import Dataset, DataLoader\n",
    "print(torch.__version__)\n",
    "# from tools import eval_summary, save_feature_importance, merge_preds\n",
    "\n",
    "device = torch.device('cpu')\n",
    "if torch.cuda.is_available():\n",
    "    print(torch.cuda.get_device_name(0))\n",
    "    device = torch.device(\"cuda:0\" if torch.cuda.is_available() else \"cpu\")\n",
    "device"
   ]
  },
  {
   "cell_type": "code",
   "execution_count": null,
   "metadata": {
    "ExecuteTime": {
     "end_time": "2020-01-14T01:33:22.349186Z",
     "start_time": "2020-01-14T01:33:22.346824Z"
    }
   },
   "outputs": [],
   "source": [
    "# In[2]:\n",
    "torch.set_num_threads(8)\n",
    "torch.get_num_threads()"
   ]
  },
  {
   "cell_type": "markdown",
   "metadata": {},
   "source": [
    "#### Load Data"
   ]
  },
  {
   "cell_type": "code",
   "execution_count": null,
   "metadata": {
    "ExecuteTime": {
     "end_time": "2020-01-14T01:33:33.944194Z",
     "start_time": "2020-01-14T01:33:22.350087Z"
    }
   },
   "outputs": [],
   "source": [
    "# In[3]:\n",
    "df_train = pd.read_csv('input/train.csv', dtype=np.float32)\n",
    "df_test = pd.read_csv('input/test.csv', dtype=np.float32)\n",
    "print(df_train.shape, df_test.shape)\n",
    "# In[4]:\n",
    "df_train.info()\n",
    "# In[5]:\n"
   ]
  },
  {
   "cell_type": "code",
   "execution_count": null,
   "metadata": {
    "ExecuteTime": {
     "end_time": "2020-01-14T01:33:33.947070Z",
     "start_time": "2020-01-14T01:33:33.945161Z"
    }
   },
   "outputs": [],
   "source": [
    "df_model = df_train"
   ]
  },
  {
   "cell_type": "code",
   "execution_count": null,
   "metadata": {
    "ExecuteTime": {
     "end_time": "2020-01-14T01:51:38.178215Z",
     "start_time": "2020-01-14T01:51:38.138787Z"
    }
   },
   "outputs": [],
   "source": [
    "fea_cols = ['layer_1', 'layer_2', 'layer_3', 'layer_4']\n",
    "fea_cols = [c for c in df_train.columns if 'layer_' not in c]\n",
    "df_train['layer_sum'] = df_train[['layer_1', 'layer_2', 'layer_3', 'layer_4']].sum(axis=1)\n",
    "y_cols = ['layer_sum']"
   ]
  },
  {
   "cell_type": "code",
   "execution_count": null,
   "metadata": {
    "ExecuteTime": {
     "end_time": "2020-01-14T01:51:39.041386Z",
     "start_time": "2020-01-14T01:51:38.925886Z"
    }
   },
   "outputs": [],
   "source": [
    "df_train[fea_cols + y_cols]"
   ]
  },
  {
   "cell_type": "code",
   "execution_count": null,
   "metadata": {
    "ExecuteTime": {
     "end_time": "2020-01-14T01:56:15.027252Z",
     "start_time": "2020-01-14T01:56:14.919987Z"
    }
   },
   "outputs": [],
   "source": [
    "model = nn.Linear(in_features=len(fea_cols), out_features=len(y_cols), bias=True).to(device)\n",
    "# criterion = nn.MSELoss().to(device)\n",
    "criterion = nn.L1Loss().to(device)\n",
    "optimizer = torch.optim.Adam(params=model.parameters(), lr=0.01)"
   ]
  },
  {
   "cell_type": "code",
   "execution_count": null,
   "metadata": {
    "ExecuteTime": {
     "end_time": "2020-01-14T01:56:15.759212Z",
     "start_time": "2020-01-14T01:56:15.348706Z"
    }
   },
   "outputs": [],
   "source": [
    "x = torch.from_numpy(df_train[fea_cols].values).float().to(device)\n",
    "y = torch.from_numpy(df_train[y_cols].values).float().to(device)\n"
   ]
  },
  {
   "cell_type": "code",
   "execution_count": null,
   "metadata": {
    "ExecuteTime": {
     "end_time": "2020-01-14T02:05:54.083425Z",
     "start_time": "2020-01-14T01:58:16.626872Z"
    }
   },
   "outputs": [],
   "source": [
    "for step in range(100000):\n",
    "    prediction = model(x)\n",
    "    loss = criterion(input=prediction, target=y)\n",
    "\n",
    "    optimizer.zero_grad()\n",
    "    loss.backward()\n",
    "    optimizer.step()"
   ]
  },
  {
   "cell_type": "code",
   "execution_count": null,
   "metadata": {
    "ExecuteTime": {
     "end_time": "2020-01-14T02:05:54.086730Z",
     "start_time": "2020-01-14T02:05:54.084302Z"
    }
   },
   "outputs": [],
   "source": [
    "loss.item()"
   ]
  },
  {
   "cell_type": "code",
   "execution_count": null,
   "metadata": {
    "ExecuteTime": {
     "end_time": "2020-01-14T02:05:54.101763Z",
     "start_time": "2020-01-14T02:05:54.087720Z"
    }
   },
   "outputs": [],
   "source": [
    "x_test = torch.from_numpy(df_train[:50][fea_cols].values).float().to(device)\n",
    "y_test = torch.from_numpy(df_train[:50][y_cols].values).float().to(device)"
   ]
  },
  {
   "cell_type": "code",
   "execution_count": null,
   "metadata": {
    "ExecuteTime": {
     "end_time": "2020-01-14T02:05:54.111501Z",
     "start_time": "2020-01-14T02:05:54.103273Z"
    }
   },
   "outputs": [],
   "source": [
    "y_pred = model(x_test)\n",
    "print(torch.cat([y_pred, y_test], axis=1))"
   ]
  },
  {
   "cell_type": "code",
   "execution_count": null,
   "metadata": {},
   "outputs": [],
   "source": []
  }
 ],
 "metadata": {
  "kernelspec": {
   "display_name": "Python 3",
   "language": "python",
   "name": "python3"
  },
  "language_info": {
   "codemirror_mode": {
    "name": "ipython",
    "version": 3
   },
   "file_extension": ".py",
   "mimetype": "text/x-python",
   "name": "python",
   "nbconvert_exporter": "python",
   "pygments_lexer": "ipython3",
   "version": "3.7.4"
  },
  "toc": {
   "base_numbering": 1,
   "nav_menu": {},
   "number_sections": true,
   "sideBar": true,
   "skip_h1_title": false,
   "title_cell": "Table of Contents",
   "title_sidebar": "Contents",
   "toc_cell": false,
   "toc_position": {
    "height": "calc(100% - 180px)",
    "left": "10px",
    "top": "150px",
    "width": "166px"
   },
   "toc_section_display": true,
   "toc_window_display": true
  }
 },
 "nbformat": 4,
 "nbformat_minor": 2
}
