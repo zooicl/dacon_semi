{
 "cells": [
  {
   "cell_type": "code",
   "execution_count": null,
   "metadata": {
    "ExecuteTime": {
     "end_time": "2020-01-16T02:39:21.317780Z",
     "start_time": "2020-01-16T02:39:19.417282Z"
    }
   },
   "outputs": [],
   "source": [
    "#!/usr/bin/env python\n",
    "# coding: utf-8\n",
    "get_ipython().run_line_magic('matplotlib', 'inline')\n",
    "import pandas as pd\n",
    "import time\n",
    "import numpy as np\n",
    "from datetime import datetime\n",
    "from sklearn.externals import joblib \n",
    "import os\n",
    "import glob\n",
    "from konlpy.tag import Mecab\n",
    "import lightgbm as lgb\n",
    "print(lgb.__version__)\n",
    "\n",
    "from sklearn import metrics\n",
    "from sklearn.preprocessing import MinMaxScaler\n",
    "from sklearn.externals import joblib \n",
    "from sklearn.model_selection import StratifiedKFold\n",
    "\n",
    "import gc\n",
    "\n",
    "from tqdm import tqdm_notebook, tqdm\n",
    "\n",
    "import json\n",
    "from typing import NamedTuple\n",
    "\n",
    "from sklearn.model_selection import train_test_split\n",
    "from sklearn.model_selection import StratifiedKFold\n",
    "\n",
    "\n",
    "import warnings\n",
    "warnings.filterwarnings(action='ignore')\n",
    "\n",
    "\n",
    "import torch\n",
    "import torch.nn as nn\n",
    "import torch.nn.functional as F\n",
    "from torch.utils.data import Dataset, DataLoader\n",
    "print(torch.__version__)\n",
    "\n",
    "\n",
    "# from tools import eval_summary, save_feature_importance, merge_preds\n",
    "\n",
    "\n",
    "device = torch.device('cpu')\n",
    "if torch.cuda.is_available():\n",
    "    print(torch.cuda.get_device_name(0))\n",
    "    device = torch.device(\"cuda:0\" if torch.cuda.is_available() else \"cpu\")\n",
    "\n",
    "device"
   ]
  },
  {
   "cell_type": "code",
   "execution_count": null,
   "metadata": {
    "ExecuteTime": {
     "end_time": "2020-01-16T02:39:33.097267Z",
     "start_time": "2020-01-16T02:39:21.318524Z"
    }
   },
   "outputs": [],
   "source": [
    "df_train = pd.read_csv('input/train.csv', dtype=np.float32)\n",
    "df_test = pd.read_csv('input/test.csv', dtype=np.float32)\n",
    "print(df_train.shape, df_test.shape)\n",
    "\n",
    "df_train.info()\n",
    "\n",
    "fea_cols = [c for c in df_train.columns if 'layer_' not in c]\n",
    "layer_cols = [c for c in df_train.columns if 'layer_' in c]\n",
    "\n",
    "df_train"
   ]
  },
  {
   "cell_type": "code",
   "execution_count": null,
   "metadata": {
    "ExecuteTime": {
     "start_time": "2020-01-16T02:39:50.478Z"
    }
   },
   "outputs": [],
   "source": [
    "import matplotlib.pyplot as plt\n",
    "\n",
    "def figure_to_array(fig):\n",
    "    \"\"\"\n",
    "    plt.figure를 RGBA로 변환(layer가 4개)\n",
    "    shape: height, width, layer\n",
    "    \"\"\"\n",
    "    fig.canvas.draw()\n",
    "    return np.array(fig.canvas.renderer._renderer)\n",
    "\n",
    "def fea_to_figure(d, figsize=(10, 10)):\n",
    "    fig, ax = plt.subplots(figsize=figsize)\n",
    "    ax.plot(d, color='black', antialiased=False, linewidth=1)\n",
    "    ax.set_xlim(0, 225)\n",
    "    ax.set_ylim(-0.02, 1.0)\n",
    "    fig.patch.set_visible(False)\n",
    "    ax.axis('off')\n",
    "    plt.close()\n",
    "    \n",
    "    return fig\n",
    "\n",
    "def fea_to_array(df):\n",
    "    arr = []\n",
    "    for d in df[fea_cols].values:\n",
    "        fig = fea_to_figure(d)\n",
    "        arr.append(figure_to_array(fig)[:, :, 1])\n",
    "        \n",
    "    df['arr'] = arr\n",
    "    return df[layer_cols + ['arr']]\n",
    "\n",
    "from multiprocessing import Pool\n",
    "\n",
    "\n",
    "dfs = []\n",
    "step = 10000\n",
    "params = [df_train[i:i+step] for i in range(0, len(df_train), step)]\n",
    "# params\n",
    "\n",
    "with Pool(16) as p:\n",
    "    dfs = p.map(fea_to_array, params)"
   ]
  },
  {
   "cell_type": "code",
   "execution_count": null,
   "metadata": {
    "ExecuteTime": {
     "start_time": "2020-01-16T02:45:31.759Z"
    }
   },
   "outputs": [],
   "source": [
    "dfs"
   ]
  },
  {
   "cell_type": "code",
   "execution_count": null,
   "metadata": {
    "ExecuteTime": {
     "end_time": "2020-01-15T05:09:32.002392Z",
     "start_time": "2020-01-15T05:09:31.997635Z"
    }
   },
   "outputs": [],
   "source": [
    "cond = (df_train['layer_1'] == 10) & (df_train['layer_2'] == 10) & (df_train['layer_3'] == 10)"
   ]
  },
  {
   "cell_type": "code",
   "execution_count": null,
   "metadata": {
    "ExecuteTime": {
     "end_time": "2020-01-15T05:09:32.276567Z",
     "start_time": "2020-01-15T05:09:32.003238Z"
    }
   },
   "outputs": [],
   "source": [
    "y_cols = [str(i) for i in range(10)]\n",
    "\n",
    "y_cols = [str(i) for i in range(0, 226, 10)]\n",
    "df_train[cond].plot(kind='line', x='layer_4', y=y_cols, figsize=(20, 5))"
   ]
  },
  {
   "cell_type": "code",
   "execution_count": null,
   "metadata": {},
   "outputs": [],
   "source": []
  }
 ],
 "metadata": {
  "kernelspec": {
   "display_name": "Python 3",
   "language": "python",
   "name": "python3"
  },
  "language_info": {
   "codemirror_mode": {
    "name": "ipython",
    "version": 3
   },
   "file_extension": ".py",
   "mimetype": "text/x-python",
   "name": "python",
   "nbconvert_exporter": "python",
   "pygments_lexer": "ipython3",
   "version": "3.7.4"
  },
  "toc": {
   "base_numbering": 1,
   "nav_menu": {},
   "number_sections": true,
   "sideBar": true,
   "skip_h1_title": false,
   "title_cell": "Table of Contents",
   "title_sidebar": "Contents",
   "toc_cell": false,
   "toc_position": {},
   "toc_section_display": true,
   "toc_window_display": false
  }
 },
 "nbformat": 4,
 "nbformat_minor": 2
}
