{
 "cells": [
  {
   "cell_type": "code",
   "execution_count": null,
   "metadata": {
    "ExecuteTime": {
     "end_time": "2020-01-29T15:04:03.616480Z",
     "start_time": "2020-01-29T15:04:01.807131Z"
    }
   },
   "outputs": [],
   "source": [
    "#!/usr/bin/env python\n",
    "# coding: utf-8\n",
    "# In[1]:\n",
    "#!/usr/bin/env python\n",
    "# coding: utf-8\n",
    "# get_ipython().run_line_magic('matplotlib', 'inline')\n",
    "import pandas as pd\n",
    "import time\n",
    "import numpy as np\n",
    "from datetime import datetime\n",
    "from sklearn.externals import joblib \n",
    "import os\n",
    "import glob\n",
    "from konlpy.tag import Mecab\n",
    "import lightgbm as lgb\n",
    "print(lgb.__version__)\n",
    "from sklearn import metrics\n",
    "from sklearn.preprocessing import MinMaxScaler\n",
    "from sklearn.externals import joblib \n",
    "from sklearn.model_selection import StratifiedKFold, KFold\n",
    "import gc\n",
    "from tqdm import tqdm_notebook, tqdm\n",
    "import json\n",
    "from typing import NamedTuple\n",
    "from sklearn.model_selection import train_test_split\n",
    "from sklearn.model_selection import StratifiedKFold\n",
    "\n",
    "import warnings\n",
    "warnings.filterwarnings(action='ignore')\n",
    "import torch\n",
    "import torch.nn as nn\n",
    "import torch.nn.functional as F\n",
    "from torch.utils.data import Dataset, DataLoader\n",
    "from torch.optim.lr_scheduler import StepLR\n",
    "print(torch.__version__)\n",
    "# from tools import eval_summary, save_feature_importance, merge_preds\n",
    "from tools import EarlyStopping\n",
    "\n",
    "device = torch.device('cpu')\n",
    "if torch.cuda.is_available():\n",
    "    print(torch.cuda.get_device_name(0))\n",
    "#     device = torch.device(\"cuda:0\" if torch.cuda.is_available() else \"cpu\")\n",
    "device"
   ]
  },
  {
   "cell_type": "code",
   "execution_count": null,
   "metadata": {
    "ExecuteTime": {
     "end_time": "2020-01-29T15:04:03.619574Z",
     "start_time": "2020-01-29T15:04:03.617426Z"
    }
   },
   "outputs": [],
   "source": [
    "# In[2]:\n",
    "torch.set_num_threads(8)\n",
    "torch.get_num_threads()"
   ]
  },
  {
   "cell_type": "code",
   "execution_count": null,
   "metadata": {
    "ExecuteTime": {
     "end_time": "2020-01-29T15:04:17.666778Z",
     "start_time": "2020-01-29T15:04:03.621557Z"
    }
   },
   "outputs": [],
   "source": [
    "class SemiDataset(Dataset):\n",
    "    def __init__(self, df, fea_cols, y_cols):        \n",
    "        self.X = df[fea_cols].values\n",
    "        self.y = df[y_cols].values\n",
    "        \n",
    "    def __len__(self):\n",
    "        return len(self.X)\n",
    "    \n",
    "    def __getitem__(self, idx):\n",
    "        return self.X[idx].astype(np.float32), self.y[idx].astype(np.float32)\n",
    "    \n",
    "\n",
    "df_train = pd.read_csv('input/train.csv', dtype=np.float32)\n",
    "df_test = pd.read_csv('input/test.csv', dtype=np.float32)\n",
    "\n",
    "print(df_train.shape, df_test.shape)\n",
    "\n",
    "layer_cols = [c for c in df_train.columns if 'layer_' in c]\n",
    "fea_cols = [c for c in df_train.columns if c not in layer_cols]\n",
    "\n",
    "len(fea_cols), len(layer_cols)\n",
    "\n",
    "# from sklearn.preprocessing import MinMaxScaler\n",
    "# scaler = MinMaxScaler()\n",
    "# scaler.fit(df_train[fea_cols].values)\n",
    "\n",
    "scaler = joblib.load('scaler.bin')\n",
    "\n",
    "df_train[fea_cols] = scaler.transform(df_train[fea_cols].values)\n",
    "df_test[fea_cols] = scaler.transform(df_test[fea_cols].values)\n",
    "\n",
    "torch.manual_seed(81511991154)\n",
    "torch.initial_seed()\n",
    "\n",
    "df_model = df_train\n",
    "\n",
    "dataset = SemiDataset(df_model[fea_cols + layer_cols], fea_cols, layer_cols)\n",
    "\n",
    "train_set, val_set = torch.utils.data.random_split(dataset, [700000, 110000])\n",
    "\n",
    "print(len(train_set), len(val_set))\n",
    "\n",
    "batch_size = 30000\n",
    "num_workers = 4\n",
    "\n",
    "train_loader = DataLoader(dataset=train_set, batch_size=batch_size, num_workers=num_workers)\n",
    "val_loader = DataLoader(dataset=val_set, batch_size=10000)\n",
    "\n",
    "print(f'batch_size {batch_size} num_workers {num_workers}')\n",
    "print(f'train_loader {len(train_loader)} val_loader {len(val_loader)}')"
   ]
  },
  {
   "cell_type": "markdown",
   "metadata": {},
   "source": [
    "#### Model"
   ]
  },
  {
   "cell_type": "code",
   "execution_count": null,
   "metadata": {
    "ExecuteTime": {
     "end_time": "2020-01-29T15:04:17.672829Z",
     "start_time": "2020-01-29T15:04:17.667844Z"
    }
   },
   "outputs": [],
   "source": [
    "class DNNModel(torch.nn.Module):\n",
    "    def __init__(self, input_size, dropout_probability=0.3):\n",
    "        super(DNNModel,self).__init__()\n",
    "#         relu = torch.nn.ReLU()\n",
    "        act = torch.nn.ELU()\n",
    "        dropout = torch.nn.Dropout(p=dropout_probability)\n",
    "\n",
    "        self.model = torch.nn.Sequential(\n",
    "            torch.nn.Linear(input_size, 2048), torch.nn.BatchNorm1d(2048), act, dropout, \n",
    "            torch.nn.Linear(2048, 2048), torch.nn.BatchNorm1d(2048), act, dropout, \n",
    "            torch.nn.Linear(2048, 1024), torch.nn.BatchNorm1d(1024), act, dropout,\n",
    "            torch.nn.Linear(1024, 1024), torch.nn.BatchNorm1d(1024), act, dropout,            \n",
    "            torch.nn.Linear(1024, 512), torch.nn.BatchNorm1d(512), act, dropout,\n",
    "            torch.nn.Linear(512, 512), torch.nn.BatchNorm1d(512), act, dropout,\n",
    "            torch.nn.Linear(512, 256), torch.nn.BatchNorm1d(256), act, dropout,            \n",
    "            torch.nn.Linear(256, 4)\n",
    "        )\n",
    "    def forward(self, x):\n",
    "        return self.model(x)\n",
    " "
   ]
  },
  {
   "cell_type": "code",
   "execution_count": null,
   "metadata": {
    "ExecuteTime": {
     "end_time": "2020-01-29T15:04:17.681240Z",
     "start_time": "2020-01-29T15:04:17.673905Z"
    }
   },
   "outputs": [],
   "source": [
    "class DNNModel(torch.nn.Module):\n",
    "    def __init__(self, input_size, dropout_probability=0.3):\n",
    "        super(DNNModel,self).__init__()\n",
    "        act = torch.nn.ELU()\n",
    "        dropout = torch.nn.Dropout(p=dropout_probability)\n",
    "\n",
    "        self.model = torch.nn.Sequential(\n",
    "            torch.nn.Linear(input_size, 2048), torch.nn.BatchNorm1d(2048), act, dropout, \n",
    "            torch.nn.Linear(2048, 2048), torch.nn.BatchNorm1d(2048), act, dropout, \n",
    "            torch.nn.Linear(2048, 1024), torch.nn.BatchNorm1d(1024), act, dropout,\n",
    "            torch.nn.Linear(1024, 1024), torch.nn.BatchNorm1d(1024), act, dropout,            \n",
    "            torch.nn.Linear(1024, 512), torch.nn.BatchNorm1d(512), act, dropout,\n",
    "            torch.nn.Linear(512, 512), torch.nn.BatchNorm1d(512), act, dropout,\n",
    "            torch.nn.Linear(512, 256), torch.nn.BatchNorm1d(256), act, dropout,            \n",
    "            torch.nn.Linear(256, 256), torch.nn.BatchNorm1d(256), act, dropout,            \n",
    "            torch.nn.Linear(256, 128), torch.nn.BatchNorm1d(128), act, dropout,            \n",
    "            torch.nn.Linear(128, 4)\n",
    "        )\n",
    "    def forward(self, x):\n",
    "        return self.model(x)\n",
    " "
   ]
  },
  {
   "cell_type": "code",
   "execution_count": null,
   "metadata": {
    "ExecuteTime": {
     "end_time": "2020-01-29T15:04:17.691086Z",
     "start_time": "2020-01-29T15:04:17.682254Z"
    }
   },
   "outputs": [],
   "source": [
    "class DNNModel(torch.nn.Module):\n",
    "    def __init__(self, input_size, dropout_probability=0.3):\n",
    "        super(DNNModel,self).__init__()\n",
    "#         relu = torch.nn.ReLU()\n",
    "        act = torch.nn.ELU()\n",
    "        dropout = torch.nn.Dropout(p=dropout_probability)\n",
    "\n",
    "        self.model = torch.nn.Sequential(\n",
    "            torch.nn.Linear(input_size, 3000), torch.nn.BatchNorm1d(3000), act, dropout, \n",
    "             torch.nn.Linear(3000, 2048), torch.nn.BatchNorm1d(2048), act, dropout, \n",
    "            torch.nn.Linear(2048, 2048), torch.nn.BatchNorm1d(2048), act, dropout, \n",
    "            torch.nn.Linear(2048, 1500), torch.nn.BatchNorm1d(1500), act, dropout,\n",
    "            torch.nn.Linear(1500, 1024), torch.nn.BatchNorm1d(1024), act, dropout,\n",
    "            torch.nn.Linear(1024, 1024), torch.nn.BatchNorm1d(1024), act, dropout,            \n",
    "            torch.nn.Linear(1024, 1024), torch.nn.BatchNorm1d(1024), act, dropout,            \n",
    "            torch.nn.Linear(1024, 512), torch.nn.BatchNorm1d(512), act, dropout,\n",
    "            torch.nn.Linear(512, 512), torch.nn.BatchNorm1d(512), act, dropout,\n",
    "            torch.nn.Linear(512, 256), torch.nn.BatchNorm1d(256), act, dropout,            \n",
    "            torch.nn.Linear(256, 4)\n",
    "        )\n",
    "    def forward(self, x):\n",
    "        return self.model(x)\n",
    " "
   ]
  },
  {
   "cell_type": "code",
   "execution_count": null,
   "metadata": {
    "ExecuteTime": {
     "end_time": "2020-01-29T15:04:17.706982Z",
     "start_time": "2020-01-29T15:04:17.692363Z"
    }
   },
   "outputs": [],
   "source": [
    "class DNNModel(torch.nn.Module):\n",
    "    def __init__(self, input_size, dropout_probability=0.3):\n",
    "        super(DNNModel,self).__init__()\n",
    "        act = torch.nn.ELU()\n",
    "        dropout = torch.nn.Dropout(p=dropout_probability)\n",
    "\n",
    "        self.model = torch.nn.Sequential(\n",
    "            torch.nn.Linear(input_size, 3000), torch.nn.BatchNorm1d(3000), act, dropout, \n",
    "             torch.nn.Linear(3000, 3000), torch.nn.BatchNorm1d(3000), act, dropout, \n",
    "             torch.nn.Linear(3000, 2048), torch.nn.BatchNorm1d(2048), act, dropout, \n",
    "            torch.nn.Linear(2048, 2048), torch.nn.BatchNorm1d(2048), act, dropout, \n",
    "            torch.nn.Linear(2048, 1500), torch.nn.BatchNorm1d(1500), act, dropout,\n",
    "            torch.nn.Linear(1500, 1500), torch.nn.BatchNorm1d(1500), act, dropout,\n",
    "            torch.nn.Linear(1500, 1024), torch.nn.BatchNorm1d(1024), act, dropout,\n",
    "            torch.nn.Linear(1024, 1024), torch.nn.BatchNorm1d(1024), act, dropout,            \n",
    "            torch.nn.Linear(1024, 1024), torch.nn.BatchNorm1d(1024), act, dropout,            \n",
    "            torch.nn.Linear(1024, 512), torch.nn.BatchNorm1d(512), act, dropout,\n",
    "            torch.nn.Linear(512, 512), torch.nn.BatchNorm1d(512), act, dropout,\n",
    "            torch.nn.Linear(512, 256), torch.nn.BatchNorm1d(256), act, dropout,            \n",
    "            torch.nn.Linear(256, 4)\n",
    "        )\n",
    "    def forward(self, x):\n",
    "        return self.model(x)\n",
    " "
   ]
  },
  {
   "cell_type": "code",
   "execution_count": null,
   "metadata": {
    "ExecuteTime": {
     "end_time": "2020-01-29T15:04:17.714742Z",
     "start_time": "2020-01-29T15:04:17.707727Z"
    }
   },
   "outputs": [],
   "source": [
    "class DNNModel(torch.nn.Module):\n",
    "    def __init__(self, input_size, dropout_probability=0.3):\n",
    "        super(DNNModel,self).__init__()\n",
    "#         relu = torch.nn.ReLU()\n",
    "        act = torch.nn.ELU()\n",
    "        dropout = torch.nn.Dropout(p=dropout_probability)\n",
    "\n",
    "        self.model = torch.nn.Sequential(\n",
    "            torch.nn.Linear(input_size, 1024), torch.nn.BatchNorm1d(1024), act, dropout, \n",
    "            torch.nn.Linear(1024, 1024), torch.nn.BatchNorm1d(1024), act, dropout,            \n",
    "            torch.nn.Linear(1024, 1024), torch.nn.BatchNorm1d(1024), act, dropout,            \n",
    "            torch.nn.Linear(1024, 512), torch.nn.BatchNorm1d(512), act, dropout,\n",
    "            torch.nn.Linear(512, 512), torch.nn.BatchNorm1d(512), act, dropout,\n",
    "            torch.nn.Linear(512, 4)\n",
    "        )\n",
    "    def forward(self, x):\n",
    "        return self.model(x)\n",
    " "
   ]
  },
  {
   "cell_type": "code",
   "execution_count": null,
   "metadata": {
    "ExecuteTime": {
     "end_time": "2020-01-29T15:04:17.723033Z",
     "start_time": "2020-01-29T15:04:17.715693Z"
    }
   },
   "outputs": [],
   "source": [
    "class DNNModel(torch.nn.Module):\n",
    "    def __init__(self, input_size, dropout_probability=0.3):\n",
    "        super(DNNModel,self).__init__()\n",
    "        act = torch.nn.ELU()\n",
    "        dropout = torch.nn.Dropout(p=dropout_probability)\n",
    "\n",
    "        self.model = torch.nn.Sequential(\n",
    "            torch.nn.Linear(input_size, 4096), torch.nn.BatchNorm1d(4096), act, dropout, \n",
    "            torch.nn.Linear(4096, 4096), torch.nn.BatchNorm1d(4096), act, dropout,            \n",
    "            torch.nn.Linear(4096, 2048), torch.nn.BatchNorm1d(2048), act, dropout,            \n",
    "            torch.nn.Linear(2048, 2048), torch.nn.BatchNorm1d(2048), act, dropout,            \n",
    "            torch.nn.Linear(2048, 1024), torch.nn.BatchNorm1d(1024), act, dropout,            \n",
    "            torch.nn.Linear(1024, 512), torch.nn.BatchNorm1d(512), act, dropout,\n",
    "            torch.nn.Linear(512, 4)\n",
    "        )\n",
    "    def forward(self, x):\n",
    "        return self.model(x)\n",
    " "
   ]
  },
  {
   "cell_type": "code",
   "execution_count": null,
   "metadata": {
    "ExecuteTime": {
     "end_time": "2020-01-29T15:04:17.730732Z",
     "start_time": "2020-01-29T15:04:17.723956Z"
    }
   },
   "outputs": [],
   "source": [
    "class DNNModel(torch.nn.Module):\n",
    "    def __init__(self, input_size, dropout_probability=0.3):\n",
    "        super(DNNModel,self).__init__()\n",
    "#         relu = torch.nn.ReLU()\n",
    "        act = torch.nn.ELU()\n",
    "        dropout = torch.nn.Dropout(p=dropout_probability)\n",
    "\n",
    "        self.model = torch.nn.Sequential(\n",
    "            torch.nn.Linear(input_size, 2048), torch.nn.BatchNorm1d(2048), act, dropout, \n",
    "            torch.nn.Linear(2048, 2048), torch.nn.BatchNorm1d(2048), act, dropout, \n",
    "            torch.nn.Linear(2048, 1024), torch.nn.BatchNorm1d(1024), act, dropout,\n",
    "            torch.nn.Linear(1024, 1024), torch.nn.BatchNorm1d(1024), act, dropout,            \n",
    "            torch.nn.Linear(1024, 512), torch.nn.BatchNorm1d(512), act, dropout,\n",
    "            torch.nn.Linear(512, 512), torch.nn.BatchNorm1d(512), act, dropout,\n",
    "            torch.nn.Linear(512, 256), torch.nn.BatchNorm1d(256), act, dropout,                        \n",
    "            torch.nn.Linear(256, 4)\n",
    "        )\n",
    "    def forward(self, x):\n",
    "        return self.model(x)\n",
    " "
   ]
  },
  {
   "cell_type": "code",
   "execution_count": null,
   "metadata": {
    "ExecuteTime": {
     "end_time": "2020-01-29T15:08:38.463815Z",
     "start_time": "2020-01-29T15:08:38.458486Z"
    }
   },
   "outputs": [],
   "source": [
    "class DNNModel(torch.nn.Module):\n",
    "    def __init__(self, input_size, dropout_probability=0.3):\n",
    "        super(DNNModel,self).__init__()\n",
    "        act = torch.nn.ELU()\n",
    "        dropout = torch.nn.Dropout(p=dropout_probability)\n",
    "\n",
    "        self.model = torch.nn.Sequential(\n",
    "            torch.nn.Linear(input_size, 512), torch.nn.BatchNorm1d(512), act, dropout, \n",
    "            torch.nn.Linear(512, 1024), torch.nn.BatchNorm1d(1024), act, dropout, \n",
    "            torch.nn.Linear(1024, 2048), torch.nn.BatchNorm1d(2048), act, dropout, \n",
    "            torch.nn.Linear(2048, 1024), torch.nn.BatchNorm1d(1024), act, dropout,\n",
    "            torch.nn.Linear(1024, 1024), torch.nn.BatchNorm1d(1024), act, dropout,\n",
    "            torch.nn.Linear(1024, 2048), torch.nn.BatchNorm1d(2048), act, dropout, \n",
    "            torch.nn.Linear(2048, 1024), torch.nn.BatchNorm1d(1024), act, dropout,\n",
    "            torch.nn.Linear(1024, 512), torch.nn.BatchNorm1d(512), act, dropout,\n",
    "            torch.nn.Linear(512, 4)\n",
    "        )\n",
    "    def forward(self, x):\n",
    "        return self.model(x)\n",
    " "
   ]
  },
  {
   "cell_type": "code",
   "execution_count": null,
   "metadata": {
    "ExecuteTime": {
     "end_time": "2020-01-29T16:38:34.510912Z",
     "start_time": "2020-01-29T16:38:34.338155Z"
    }
   },
   "outputs": [],
   "source": [
    "model = DNNModel(input_size=226, dropout_probability=0).to(device)\n",
    "\n",
    "# model.load_state_dict(torch.load('model/20200123T082145_0.5488672057787577.model'))\n",
    "\n",
    "model.load_state_dict(torch.load('model/checkpoint.pt'))\n",
    "# model.load_state_dict(torch.load('model/20200125T200128_0.4469637870788574.pt'))\n",
    "\n",
    "\n",
    "model.to(device)\n",
    "model"
   ]
  },
  {
   "cell_type": "markdown",
   "metadata": {},
   "source": [
    "#### Pred Valid"
   ]
  },
  {
   "cell_type": "code",
   "execution_count": null,
   "metadata": {
    "ExecuteTime": {
     "end_time": "2020-01-29T16:39:03.839090Z",
     "start_time": "2020-01-29T16:38:35.299972Z"
    }
   },
   "outputs": [],
   "source": [
    "criterion = nn.L1Loss(reduction='mean').to(device)\n",
    "model.eval()\n",
    "total_loss = 0\n",
    "for data in val_loader:\n",
    "    X_batch, y_batch = data\n",
    "    X_batch = X_batch.to(device)\n",
    "    y_batch = y_batch.to(device)\n",
    "    \n",
    "    with torch.no_grad():\n",
    "        y_pred = model(X_batch)\n",
    "        loss = criterion(y_pred, y_batch)\n",
    "        total_loss = total_loss + loss.item()\n",
    "        \n",
    "val_loss_min = total_loss / len(val_loader)\n",
    "val_loss_min"
   ]
  },
  {
   "cell_type": "markdown",
   "metadata": {},
   "source": [
    "#### Pred Test "
   ]
  },
  {
   "cell_type": "code",
   "execution_count": null,
   "metadata": {
    "ExecuteTime": {
     "end_time": "2020-01-29T16:43:28.397034Z",
     "start_time": "2020-01-29T16:43:25.989370Z"
    }
   },
   "outputs": [],
   "source": [
    "model.eval()\n",
    "y_pred = model(torch.Tensor(df_test[fea_cols].values).to(device))    \n",
    "print(y_pred)\n",
    "\n",
    "ts = datetime.now().strftime('%Y%m%dT%H%M%S')\n",
    "\n",
    "df_submit = pd.read_csv('input/sample_submission.csv', index_col=0)\n",
    "\n",
    "df_submit[layer_cols] = y_pred.cpu().detach().numpy()\n",
    "df_submit.to_csv(f'submit/{ts}_{val_loss_min}.csv')\n",
    "\n",
    "print(ts, val_loss_min)"
   ]
  },
  {
   "cell_type": "code",
   "execution_count": null,
   "metadata": {
    "ExecuteTime": {
     "end_time": "2020-01-24T11:46:11.526847Z",
     "start_time": "2020-01-24T11:46:11.525302Z"
    }
   },
   "outputs": [],
   "source": [
    "# model.load_state_dict(torch.load('model/20200123T215856_0.6811393996079763.model'))"
   ]
  },
  {
   "cell_type": "code",
   "execution_count": null,
   "metadata": {},
   "outputs": [],
   "source": []
  },
  {
   "cell_type": "code",
   "execution_count": null,
   "metadata": {},
   "outputs": [],
   "source": []
  },
  {
   "cell_type": "code",
   "execution_count": null,
   "metadata": {},
   "outputs": [],
   "source": []
  }
 ],
 "metadata": {
  "kernelspec": {
   "display_name": "Python 3",
   "language": "python",
   "name": "python3"
  },
  "language_info": {
   "codemirror_mode": {
    "name": "ipython",
    "version": 3
   },
   "file_extension": ".py",
   "mimetype": "text/x-python",
   "name": "python",
   "nbconvert_exporter": "python",
   "pygments_lexer": "ipython3",
   "version": "3.7.4"
  },
  "toc": {
   "base_numbering": 1,
   "nav_menu": {},
   "number_sections": true,
   "sideBar": true,
   "skip_h1_title": false,
   "title_cell": "Table of Contents",
   "title_sidebar": "Contents",
   "toc_cell": false,
   "toc_position": {
    "height": "calc(100% - 180px)",
    "left": "10px",
    "top": "150px",
    "width": "166px"
   },
   "toc_section_display": true,
   "toc_window_display": true
  }
 },
 "nbformat": 4,
 "nbformat_minor": 2
}
