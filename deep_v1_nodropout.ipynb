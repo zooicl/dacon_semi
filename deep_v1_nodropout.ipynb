{
 "cells": [
  {
   "cell_type": "code",
   "execution_count": null,
   "metadata": {
    "ExecuteTime": {
     "end_time": "2020-01-31T02:14:15.328590Z",
     "start_time": "2020-01-31T02:14:13.882756Z"
    }
   },
   "outputs": [],
   "source": [
    "#!/usr/bin/env python\n",
    "# coding: utf-8\n",
    "# In[1]:\n",
    "#!/usr/bin/env python\n",
    "# coding: utf-8\n",
    "# get_ipython().run_line_magic('matplotlib', 'inline')\n",
    "import pandas as pd\n",
    "import time\n",
    "import numpy as np\n",
    "from datetime import datetime\n",
    "from sklearn.externals import joblib \n",
    "import os\n",
    "import glob\n",
    "from konlpy.tag import Mecab\n",
    "import lightgbm as lgb\n",
    "print(lgb.__version__)\n",
    "from sklearn import metrics\n",
    "from sklearn.preprocessing import MinMaxScaler\n",
    "from sklearn.externals import joblib \n",
    "from sklearn.model_selection import StratifiedKFold, KFold\n",
    "import gc\n",
    "from tqdm import tqdm_notebook, tqdm\n",
    "import json\n",
    "from typing import NamedTuple\n",
    "from sklearn.model_selection import train_test_split\n",
    "from sklearn.model_selection import StratifiedKFold\n",
    "\n",
    "import warnings\n",
    "warnings.filterwarnings(action='ignore')\n",
    "import torch\n",
    "import torch.nn as nn\n",
    "import torch.nn.functional as F\n",
    "from torch.utils.data import Dataset, DataLoader\n",
    "from torch.optim.lr_scheduler import StepLR\n",
    "print(torch.__version__)\n",
    "# from tools import eval_summary, save_feature_importance, merge_preds\n",
    "from tools import EarlyStopping\n",
    "\n",
    "device = torch.device('cpu')\n",
    "if torch.cuda.is_available():\n",
    "    print(torch.cuda.get_device_name(0))\n",
    "    device = torch.device(\"cuda:0\" if torch.cuda.is_available() else \"cpu\")\n",
    "device"
   ]
  },
  {
   "cell_type": "code",
   "execution_count": null,
   "metadata": {
    "ExecuteTime": {
     "end_time": "2020-01-31T02:14:15.332297Z",
     "start_time": "2020-01-31T02:14:15.329612Z"
    }
   },
   "outputs": [],
   "source": [
    "# In[2]:\n",
    "torch.set_num_threads(8)\n",
    "torch.get_num_threads()"
   ]
  },
  {
   "cell_type": "markdown",
   "metadata": {},
   "source": [
    "#### Load Data"
   ]
  },
  {
   "cell_type": "code",
   "execution_count": null,
   "metadata": {
    "ExecuteTime": {
     "end_time": "2020-01-31T02:14:29.033001Z",
     "start_time": "2020-01-31T02:14:15.333618Z"
    }
   },
   "outputs": [],
   "source": [
    "df_train = pd.read_csv('input/train.csv', dtype=np.float32)\n",
    "df_test = pd.read_csv('input/test.csv', dtype=np.float32)\n",
    "print(df_train.shape, df_test.shape)\n"
   ]
  },
  {
   "cell_type": "code",
   "execution_count": null,
   "metadata": {
    "ExecuteTime": {
     "end_time": "2020-01-31T02:14:29.067181Z",
     "start_time": "2020-01-31T02:14:29.034347Z"
    }
   },
   "outputs": [],
   "source": [
    "df_train"
   ]
  },
  {
   "cell_type": "code",
   "execution_count": null,
   "metadata": {
    "ExecuteTime": {
     "end_time": "2020-01-31T02:14:29.071362Z",
     "start_time": "2020-01-31T02:14:29.068068Z"
    }
   },
   "outputs": [],
   "source": [
    "layer_cols = [c for c in df_train.columns if 'layer_' in c]\n",
    "fea_cols = [c for c in df_train.columns if c not in layer_cols]\n",
    "\n",
    "len(fea_cols), len(layer_cols)"
   ]
  },
  {
   "cell_type": "code",
   "execution_count": null,
   "metadata": {
    "ExecuteTime": {
     "end_time": "2020-01-31T02:14:30.604335Z",
     "start_time": "2020-01-31T02:14:29.072114Z"
    }
   },
   "outputs": [],
   "source": [
    "from sklearn.preprocessing import MinMaxScaler\n",
    "scaler = MinMaxScaler()\n",
    "scaler.fit(df_train[fea_cols].values)\n",
    "\n",
    "scaler = joblib.load('scaler.bin')\n",
    "\n",
    "df_train[fea_cols] = scaler.transform(df_train[fea_cols].values)\n",
    "df_test[fea_cols] = scaler.transform(df_test[fea_cols].values)"
   ]
  },
  {
   "cell_type": "code",
   "execution_count": null,
   "metadata": {
    "ExecuteTime": {
     "end_time": "2020-01-31T02:14:30.645536Z",
     "start_time": "2020-01-31T02:14:30.605225Z"
    }
   },
   "outputs": [],
   "source": [
    "df_train"
   ]
  },
  {
   "cell_type": "code",
   "execution_count": null,
   "metadata": {
    "ExecuteTime": {
     "end_time": "2020-01-31T02:14:30.648997Z",
     "start_time": "2020-01-31T02:14:30.646994Z"
    }
   },
   "outputs": [],
   "source": [
    "df_model = df_train"
   ]
  },
  {
   "cell_type": "markdown",
   "metadata": {},
   "source": [
    "#### Model"
   ]
  },
  {
   "cell_type": "markdown",
   "metadata": {},
   "source": [
    "##### DNN1Model"
   ]
  },
  {
   "cell_type": "code",
   "execution_count": null,
   "metadata": {
    "ExecuteTime": {
     "end_time": "2020-01-31T02:14:30.656528Z",
     "start_time": "2020-01-31T02:14:30.650150Z"
    }
   },
   "outputs": [],
   "source": [
    "# df1 = pd.read_csv('input/SiO2.txt', sep='\\t')\n",
    "# df2 = pd.read_csv('input/Si3N4.txt', sep='\\t')\n",
    "\n",
    "# df_nk = pd.merge(df1, df2, on='Wavelength(nm)')\n",
    "# df_nk = df_nk[:226]\n",
    "\n",
    "# df_nk.columns"
   ]
  },
  {
   "cell_type": "code",
   "execution_count": null,
   "metadata": {
    "ExecuteTime": {
     "end_time": "2020-01-31T02:14:30.746578Z",
     "start_time": "2020-01-31T02:14:30.657517Z"
    }
   },
   "outputs": [],
   "source": [
    "class DNN1Model(torch.nn.Module):\n",
    "    def __init__(self, input_size, dropout_probability=0.3):\n",
    "        super().__init__()\n",
    "        relu = torch.nn.ReLU()\n",
    "        dropout = torch.nn.Dropout(p=dropout_probability)\n",
    "\n",
    "        self.layer_1 = torch.nn.Sequential(\n",
    "            torch.nn.Linear(input_size, input_size), relu, torch.nn.BatchNorm1d(input_size), dropout, \n",
    "            torch.nn.Linear(input_size, input_size), relu, torch.nn.BatchNorm1d(input_size), dropout, \n",
    "            torch.nn.Linear(input_size, input_size), relu, torch.nn.BatchNorm1d(input_size), dropout, \n",
    "        )\n",
    "        self.layer_2 = torch.nn.Sequential(\n",
    "            torch.nn.Linear(input_size, input_size), relu, torch.nn.BatchNorm1d(input_size), dropout, \n",
    "            torch.nn.Linear(input_size, input_size), relu, torch.nn.BatchNorm1d(input_size), dropout, \n",
    "            torch.nn.Linear(input_size, input_size), relu, torch.nn.BatchNorm1d(input_size), dropout, \n",
    "        )\n",
    "        self.layer_3 = torch.nn.Sequential(\n",
    "            torch.nn.Linear(input_size, input_size), relu, torch.nn.BatchNorm1d(input_size), dropout, \n",
    "            torch.nn.Linear(input_size, input_size), relu, torch.nn.BatchNorm1d(input_size), dropout, \n",
    "            torch.nn.Linear(input_size, input_size), relu, torch.nn.BatchNorm1d(input_size), dropout, \n",
    "        )\n",
    "        self.layer_4 = torch.nn.Sequential(\n",
    "            torch.nn.Linear(input_size, input_size), relu, torch.nn.BatchNorm1d(input_size), dropout, \n",
    "            torch.nn.Linear(input_size, input_size), relu, torch.nn.BatchNorm1d(input_size), dropout, \n",
    "            torch.nn.Linear(input_size, input_size), relu, torch.nn.BatchNorm1d(input_size), dropout, \n",
    "        )\n",
    "        \n",
    "        self.fc = torch.nn.Sequential(\n",
    "            torch.nn.Linear(input_size, input_size), relu,\n",
    "            torch.nn.Linear(input_size, input_size), relu,\n",
    "            torch.nn.Linear(input_size, input_size), relu,\n",
    "            torch.nn.Linear(input_size, 4),\n",
    "        )\n",
    "        \n",
    "        self.layer13_n = torch.Tensor(df_nk[['n_x']].T.values).to(device)\n",
    "        self.layer13_k = torch.Tensor(df_nk[['k_x']].T.values).to(device)\n",
    "        self.layer24_n = torch.Tensor(df_nk[['n_y']].T.values).to(device)\n",
    "        self.layer24_k = torch.Tensor(df_nk[['k_y']].T.values).to(device)\n",
    "        \n",
    "    \n",
    "    def forward(self, x_fea):\n",
    "        \n",
    "        out_layer_1 = self.layer_1(torch.add(torch.mul(x_fea, self.layer13_n), self.layer13_k))\n",
    "        out_layer_2 = self.layer_2(torch.add(torch.mul(out_layer_1, self.layer24_n), self.layer24_k))\n",
    "        out_layer_3 = self.layer_3(torch.add(torch.mul(out_layer_2, self.layer13_n), self.layer13_k))\n",
    "        out_layer_4 = self.layer_4(torch.add(torch.mul(out_layer_2, self.layer24_n), self.layer24_k))\n",
    "        \n",
    "        return self.fc(out_layer_4)\n",
    "    "
   ]
  },
  {
   "cell_type": "markdown",
   "metadata": {},
   "source": [
    "##### DCNNModel"
   ]
  },
  {
   "cell_type": "code",
   "execution_count": null,
   "metadata": {
    "ExecuteTime": {
     "end_time": "2020-01-31T02:14:30.755313Z",
     "start_time": "2020-01-31T02:14:30.747641Z"
    }
   },
   "outputs": [],
   "source": [
    "# # size = 48\n",
    "# W = 15 # input_volume_size\n",
    "# F = 6  # kernel_size\n",
    "# S = 1   # strides\n",
    "# P = 1\n",
    "# # padding_size\n",
    "\n",
    "# size = (W - F + 2*P) / S + 1\n",
    "# size\n",
    "# # ((size - 1) * S) - 2*P + F"
   ]
  },
  {
   "cell_type": "code",
   "execution_count": null,
   "metadata": {
    "ExecuteTime": {
     "end_time": "2020-01-31T02:14:30.771980Z",
     "start_time": "2020-01-31T02:14:30.756137Z"
    }
   },
   "outputs": [],
   "source": [
    "class DCNNModel(torch.nn.Module):\n",
    "    def __init__(self, input_size, dropout_probability=0.3):\n",
    "        super(DCNNModel,self).__init__()\n",
    "#         relu = torch.nn.ReLU()\n",
    "        act = torch.nn.ELU()\n",
    "        dropout = torch.nn.Dropout(p=dropout_probability)\n",
    "\n",
    "        self.model = torch.nn.Sequential(\n",
    "            torch.nn.Linear(input_size, 1024), torch.nn.BatchNorm1d(1024), act, dropout, \n",
    "            torch.nn.Linear(1024, 1024), torch.nn.BatchNorm1d(1024), act, dropout,            \n",
    "            torch.nn.Linear(1024, 512), torch.nn.BatchNorm1d(512), act, dropout,\n",
    "            torch.nn.Linear(512, 512), torch.nn.BatchNorm1d(512), act, dropout,\n",
    "            torch.nn.Linear(512, 256), torch.nn.BatchNorm1d(256), act, dropout,            \n",
    "            torch.nn.Linear(256, 128),\n",
    "            \n",
    "        )\n",
    "        \n",
    "        self.cnn = torch.nn.Sequential(\n",
    "            torch.nn.Conv1d(1, 12, 3, stride=1, padding=1), torch.nn.BatchNorm1d(12), act,\n",
    "            torch.nn.Conv1d(12, 12, 3, stride=1, padding=1), torch.nn.BatchNorm1d(12), act,\n",
    "            torch.nn.MaxPool1d(2),\n",
    "            torch.nn.Conv1d(12, 24, 3, stride=1, padding=1), torch.nn.BatchNorm1d(24), act,\n",
    "            torch.nn.Conv1d(24, 24, 3, stride=1, padding=1), torch.nn.BatchNorm1d(24), act,\n",
    "            torch.nn.MaxPool1d(2),\n",
    "            torch.nn.Conv1d(24, 48, 3, stride=1, padding=1), torch.nn.BatchNorm1d(48), act,\n",
    "            torch.nn.Conv1d(48, 48, 3, stride=1, padding=1), torch.nn.BatchNorm1d(48), act,\n",
    "            torch.nn.MaxPool1d(2),\n",
    "            torch.nn.Conv1d(48, 96, 3, stride=1, padding=1), torch.nn.BatchNorm1d(96), act,\n",
    "            torch.nn.Conv1d(96, 96, 3, stride=1, padding=1), torch.nn.BatchNorm1d(96), act,\n",
    "            torch.nn.MaxPool1d(2),\n",
    "            torch.nn.Conv1d(96, 96, 3, stride=1, padding=1), torch.nn.BatchNorm1d(96), act,\n",
    "            torch.nn.Conv1d(96, 96, 3, stride=1, padding=1), torch.nn.BatchNorm1d(96), act,\n",
    "            torch.nn.MaxPool1d(2),\n",
    "        )\n",
    "        \n",
    "        self.clf = torch.nn.Sequential(\n",
    "            torch.nn.Linear(128 + 672, 512), act, dropout,\n",
    "            torch.nn.Linear(512, 512), act, dropout,\n",
    "            torch.nn.Linear(512, 4),\n",
    "        )\n",
    "        \n",
    "    def forward(self, x):\n",
    "        out_cnn = self.cnn(x.unsqueeze(1))\n",
    "        dim = 1\n",
    "        for d in out_cnn.size()[1:]:\n",
    "            dim = dim * d\n",
    "        out_cnn = out_cnn.view(-1, dim)\n",
    "        \n",
    "        out = self.clf(torch.cat([self.model(x), out_cnn], axis=1))\n",
    "        return out\n",
    "        \n",
    " "
   ]
  },
  {
   "cell_type": "markdown",
   "metadata": {},
   "source": [
    "##### DNNModel"
   ]
  },
  {
   "cell_type": "code",
   "execution_count": null,
   "metadata": {
    "ExecuteTime": {
     "end_time": "2020-01-31T02:14:30.780616Z",
     "start_time": "2020-01-31T02:14:30.772822Z"
    }
   },
   "outputs": [],
   "source": [
    "# class DNNModel(torch.nn.Module):\n",
    "#     def __init__(self, input_size, dropout_probability=0.3):\n",
    "#         super(DNNModel,self).__init__()\n",
    "#         act = torch.nn.ELU()\n",
    "#         dropout = torch.nn.Dropout(p=dropout_probability)\n",
    "\n",
    "#         self.model = torch.nn.Sequential(\n",
    "#             torch.nn.Linear(input_size, 2048), torch.nn.BatchNorm1d(2048), act, dropout, \n",
    "#             torch.nn.Linear(2048, 2048), torch.nn.BatchNorm1d(2048), act, dropout, \n",
    "#             torch.nn.Linear(2048, 1024), torch.nn.BatchNorm1d(1024), act, dropout,\n",
    "#             torch.nn.Linear(1024, 1024), torch.nn.BatchNorm1d(1024), act, dropout,            \n",
    "#             torch.nn.Linear(1024, 512), torch.nn.BatchNorm1d(512), act, dropout,\n",
    "#             torch.nn.Linear(512, 512), torch.nn.BatchNorm1d(512), act, dropout,\n",
    "#             torch.nn.Linear(512, 256), torch.nn.BatchNorm1d(256), act, dropout,            \n",
    "#             torch.nn.Linear(256, 256), torch.nn.BatchNorm1d(256), act, dropout,            \n",
    "#             torch.nn.Linear(256, 128), torch.nn.BatchNorm1d(128), act, dropout,            \n",
    "#             torch.nn.Linear(128, 4)\n",
    "#         )\n",
    "#     def forward(self, x):\n",
    "#         return self.model(x)\n",
    " "
   ]
  },
  {
   "cell_type": "code",
   "execution_count": null,
   "metadata": {
    "ExecuteTime": {
     "end_time": "2020-01-31T02:14:30.789840Z",
     "start_time": "2020-01-31T02:14:30.781515Z"
    }
   },
   "outputs": [],
   "source": [
    "# class DNNModel(torch.nn.Module):\n",
    "#     def __init__(self, input_size, dropout_probability=0.3):\n",
    "#         super(DNNModel,self).__init__()\n",
    "#         act = torch.nn.ELU()\n",
    "#         dropout = torch.nn.Dropout(p=dropout_probability)\n",
    "\n",
    "#         self.model = torch.nn.Sequential(\n",
    "#             torch.nn.Linear(input_size, 4096), torch.nn.BatchNorm1d(4096), act, dropout, \n",
    "#             torch.nn.Linear(4096, 4096), torch.nn.BatchNorm1d(4096), act, dropout,            \n",
    "#             torch.nn.Linear(4096, 2048), torch.nn.BatchNorm1d(2048), act, dropout,            \n",
    "#             torch.nn.Linear(2048, 2048), torch.nn.BatchNorm1d(2048), act, dropout,            \n",
    "#             torch.nn.Linear(2048, 1024), torch.nn.BatchNorm1d(1024), act, dropout,            \n",
    "#             torch.nn.Linear(1024, 1024), torch.nn.BatchNorm1d(1024), act, dropout,            \n",
    "#             torch.nn.Linear(1024, 512), torch.nn.BatchNorm1d(512), act, dropout,\n",
    "#             torch.nn.Linear(512, 512), torch.nn.BatchNorm1d(512), act, dropout,\n",
    "#             torch.nn.Linear(512, 4)\n",
    "#         )\n",
    "#     def forward(self, x):\n",
    "#         return self.model(x)\n",
    " "
   ]
  },
  {
   "cell_type": "code",
   "execution_count": null,
   "metadata": {
    "ExecuteTime": {
     "end_time": "2020-01-31T02:14:30.798281Z",
     "start_time": "2020-01-31T02:14:30.790618Z"
    }
   },
   "outputs": [],
   "source": [
    "# class DNNModel(torch.nn.Module):\n",
    "#     def __init__(self, input_size, dropout_probability=0.3):\n",
    "#         super(DNNModel,self).__init__()\n",
    "#         act = torch.nn.ELU()\n",
    "#         dropout = torch.nn.Dropout(p=dropout_probability)\n",
    "\n",
    "#         self.model = torch.nn.Sequential(\n",
    "#             torch.nn.Linear(input_size, 4096), torch.nn.BatchNorm1d(4096), act, dropout, \n",
    "#             torch.nn.Linear(4096, 4096), torch.nn.BatchNorm1d(4096), act, dropout,            \n",
    "#             torch.nn.Linear(4096, 4096), torch.nn.BatchNorm1d(4096), act, dropout,            \n",
    "#             torch.nn.Linear(4096, 2048), torch.nn.BatchNorm1d(2048), act, dropout,            \n",
    "#             torch.nn.Linear(2048, 2048), torch.nn.BatchNorm1d(2048), act, dropout,            \n",
    "#             torch.nn.Linear(2048, 4)\n",
    "#         )\n",
    "        \n",
    "#     def forward(self, x):\n",
    "#         return self.model(x)\n",
    " "
   ]
  },
  {
   "cell_type": "code",
   "execution_count": null,
   "metadata": {
    "ExecuteTime": {
     "end_time": "2020-01-31T02:14:30.804888Z",
     "start_time": "2020-01-31T02:14:30.799159Z"
    }
   },
   "outputs": [],
   "source": [
    "# class DNNModel(torch.nn.Module):\n",
    "#     def __init__(self, input_size, dropout_probability=0.3):\n",
    "#         super(DNNModel,self).__init__()\n",
    "#         act = torch.nn.ELU()\n",
    "#         dropout = torch.nn.Dropout(p=dropout_probability)\n",
    "\n",
    "#         self.model = torch.nn.Sequential(\n",
    "#             torch.nn.Linear(input_size, 4096), torch.nn.BatchNorm1d(4096), act, dropout, \n",
    "#             torch.nn.Linear(4096, 2048), torch.nn.BatchNorm1d(2048), act, dropout,            \n",
    "#             torch.nn.Linear(2048, 1024), torch.nn.BatchNorm1d(1024), act, dropout,            \n",
    "#             torch.nn.Linear(1024, 512), torch.nn.BatchNorm1d(512), act, dropout,            \n",
    "#             torch.nn.Linear(512, 256), torch.nn.BatchNorm1d(256), act, dropout,            \n",
    "#             torch.nn.Linear(256, 128), torch.nn.BatchNorm1d(128), act, dropout,            \n",
    "#             torch.nn.Linear(128, 4)\n",
    "#         )\n",
    "        \n",
    "#     def forward(self, x):\n",
    "#         return self.model(x)\n",
    " "
   ]
  },
  {
   "cell_type": "code",
   "execution_count": null,
   "metadata": {
    "ExecuteTime": {
     "end_time": "2020-01-31T02:14:30.813202Z",
     "start_time": "2020-01-31T02:14:30.805761Z"
    }
   },
   "outputs": [],
   "source": [
    "# # 0.6631845073266462 0.0001\n",
    "\n",
    "# class DNNModel(torch.nn.Module):\n",
    "#     def __init__(self, input_size, dropout_probability=0.3):\n",
    "#         super(DNNModel,self).__init__()\n",
    "#         act = torch.nn.ELU()\n",
    "#         dropout = torch.nn.Dropout(p=dropout_probability)\n",
    "\n",
    "#         self.model = torch.nn.Sequential(\n",
    "#             torch.nn.Linear(input_size, 4096), torch.nn.BatchNorm1d(4096), act, dropout, \n",
    "#             torch.nn.Linear(4096, 4096), torch.nn.BatchNorm1d(4096), act, dropout,            \n",
    "#             torch.nn.Linear(4096, 4096), torch.nn.BatchNorm1d(4096), act, dropout,            \n",
    "#             torch.nn.Linear(4096, 2048), torch.nn.BatchNorm1d(2048), act, dropout,            \n",
    "#             torch.nn.Linear(2048, 2048), torch.nn.BatchNorm1d(2048), act, dropout,            \n",
    "#             torch.nn.Linear(2048, 1024), torch.nn.BatchNorm1d(1024), act, dropout,            \n",
    "#             torch.nn.Linear(1024, 512), torch.nn.BatchNorm1d(512), act, dropout,\n",
    "#             torch.nn.Linear(512, 4)\n",
    "#         )\n",
    "        \n",
    "#     def forward(self, x):\n",
    "#         return self.model(x)\n",
    " "
   ]
  },
  {
   "cell_type": "code",
   "execution_count": null,
   "metadata": {
    "ExecuteTime": {
     "end_time": "2020-01-31T02:14:30.822587Z",
     "start_time": "2020-01-31T02:14:30.814293Z"
    }
   },
   "outputs": [],
   "source": [
    "# # 0.4473953328349374\n",
    "# class DNNModel(torch.nn.Module):\n",
    "#     def __init__(self, input_size, dropout_probability=0.3):\n",
    "#         super(DNNModel,self).__init__()\n",
    "#         act = torch.nn.ELU()\n",
    "#         dropout = torch.nn.Dropout(p=dropout_probability)\n",
    "\n",
    "#         self.model = torch.nn.Sequential(\n",
    "#             torch.nn.Linear(input_size, 4096), torch.nn.BatchNorm1d(4096), act, dropout, \n",
    "#             torch.nn.Linear(4096, 4096), torch.nn.BatchNorm1d(4096), act, dropout,            \n",
    "#             torch.nn.Linear(4096, 2048), torch.nn.BatchNorm1d(2048), act, dropout,       \n",
    "#             torch.nn.Linear(2048, 2048), torch.nn.BatchNorm1d(2048), act, dropout, \n",
    "#             torch.nn.Linear(2048, 1024), torch.nn.BatchNorm1d(1024), act, dropout,\n",
    "#             torch.nn.Linear(1024, 1024), torch.nn.BatchNorm1d(1024), act, dropout,            \n",
    "#             torch.nn.Linear(1024, 512), torch.nn.BatchNorm1d(512), act, dropout,\n",
    "#             torch.nn.Linear(512, 512), torch.nn.BatchNorm1d(512), act, dropout,\n",
    "#             torch.nn.Linear(512, 256), torch.nn.BatchNorm1d(256), act, dropout,                        \n",
    "#             torch.nn.Linear(256, 4)\n",
    "#         )\n",
    "#     def forward(self, x):\n",
    "#         return self.model(x)\n",
    " "
   ]
  },
  {
   "cell_type": "code",
   "execution_count": null,
   "metadata": {
    "ExecuteTime": {
     "end_time": "2020-01-31T02:14:30.831139Z",
     "start_time": "2020-01-31T02:14:30.823458Z"
    }
   },
   "outputs": [],
   "source": [
    "# class DNNModel(torch.nn.Module):\n",
    "#     def __init__(self, input_size, dropout_probability=0.3):\n",
    "#         super(DNNModel,self).__init__()\n",
    "#         act = torch.nn.ELU()\n",
    "#         dropout = torch.nn.Dropout(p=dropout_probability)\n",
    "\n",
    "#         self.model = torch.nn.Sequential(\n",
    "#             torch.nn.Linear(input_size, 4096), torch.nn.BatchNorm1d(4096), act, dropout, \n",
    "#             torch.nn.Linear(4096, 4096), torch.nn.BatchNorm1d(4096), act, dropout,            \n",
    "#             torch.nn.Linear(4096, 2048), torch.nn.BatchNorm1d(2048), act, dropout,       \n",
    "\n",
    "#             torch.nn.Linear(2048, 2048), torch.nn.BatchNorm1d(2048), act, dropout, \n",
    "#             torch.nn.Linear(2048, 1024), torch.nn.BatchNorm1d(1024), act, dropout,\n",
    "#             torch.nn.Linear(1024, 512), torch.nn.BatchNorm1d(512), act, dropout,\n",
    "#             torch.nn.Linear(512, 4)\n",
    "#         )\n",
    "#     def forward(self, x):\n",
    "#         return self.model(x)\n",
    " "
   ]
  },
  {
   "cell_type": "code",
   "execution_count": null,
   "metadata": {
    "ExecuteTime": {
     "end_time": "2020-01-31T02:14:30.840571Z",
     "start_time": "2020-01-31T02:14:30.831981Z"
    }
   },
   "outputs": [],
   "source": [
    "class DNNModel(torch.nn.Module):\n",
    "    def __init__(self, input_size, dropout_probability=0.3):\n",
    "        super(DNNModel,self).__init__()\n",
    "        act = torch.nn.ELU()\n",
    "        dropout = torch.nn.Dropout(p=dropout_probability)\n",
    "\n",
    "        self.model = torch.nn.Sequential(\n",
    "            torch.nn.Linear(input_size, 512), torch.nn.BatchNorm1d(512), act, dropout, \n",
    "            torch.nn.Linear(512, 1024), torch.nn.BatchNorm1d(1024), act, dropout, \n",
    "            torch.nn.Linear(1024, 2048), torch.nn.BatchNorm1d(2048), act, dropout, \n",
    "            torch.nn.Linear(2048, 1024), torch.nn.BatchNorm1d(1024), act, dropout,\n",
    "            torch.nn.Linear(1024, 1024), torch.nn.BatchNorm1d(1024), act, dropout,\n",
    "            torch.nn.Linear(1024, 2048), torch.nn.BatchNorm1d(2048), act, dropout, \n",
    "            torch.nn.Linear(2048, 1024), torch.nn.BatchNorm1d(1024), act, dropout,\n",
    "            torch.nn.Linear(1024, 512), torch.nn.BatchNorm1d(512), act, dropout,\n",
    "            torch.nn.Linear(512, 4)\n",
    "        )\n",
    "    def forward(self, x):\n",
    "        return self.model(x)\n",
    " "
   ]
  },
  {
   "cell_type": "code",
   "execution_count": null,
   "metadata": {
    "ExecuteTime": {
     "end_time": "2020-01-31T02:14:30.847009Z",
     "start_time": "2020-01-31T02:14:30.841505Z"
    }
   },
   "outputs": [],
   "source": [
    "# class DNNModel(torch.nn.Module):\n",
    "#     def __init__(self, input_size, dropout_probability=0.3):\n",
    "#         super(DNNModel,self).__init__()\n",
    "#         act = torch.nn.ELU()\n",
    "#         dropout = torch.nn.Dropout(p=dropout_probability)\n",
    "\n",
    "#         self.model = torch.nn.Sequential(\n",
    "#             torch.nn.Linear(input_size, 512), torch.nn.BatchNorm1d(512), act, dropout, \n",
    "#             torch.nn.Linear(512, 1024), torch.nn.BatchNorm1d(1024), act, dropout, \n",
    "#             torch.nn.Linear(1024, 2048), torch.nn.BatchNorm1d(2048), act, dropout, \n",
    "#             torch.nn.Linear(2048, 1024), torch.nn.BatchNorm1d(1024), act, dropout,\n",
    "#             torch.nn.Linear(1024, 1024), torch.nn.BatchNorm1d(1024), act, dropout,\n",
    "#             torch.nn.Linear(1024, 2048), torch.nn.BatchNorm1d(2048), act, dropout, \n",
    "#             torch.nn.Linear(2048, 1024), torch.nn.BatchNorm1d(1024), act, dropout,\n",
    "#             torch.nn.Linear(1024, 2048), torch.nn.BatchNorm1d(2048), act, dropout, \n",
    "#             torch.nn.Linear(2048, 1024), torch.nn.BatchNorm1d(1024), act, dropout,\n",
    "#             torch.nn.Linear(1024, 512), torch.nn.BatchNorm1d(512), act, dropout,\n",
    "#             torch.nn.Linear(512, 4)\n",
    "#         )\n",
    "#     def forward(self, x):\n",
    "#         return self.model(x)\n",
    " "
   ]
  },
  {
   "cell_type": "code",
   "execution_count": null,
   "metadata": {
    "ExecuteTime": {
     "end_time": "2020-01-31T02:14:30.857880Z",
     "start_time": "2020-01-31T02:14:30.847860Z"
    }
   },
   "outputs": [],
   "source": [
    "# class DNNModel(torch.nn.Module):\n",
    "#     def __init__(self, input_size, dropout_probability=0.3):\n",
    "#         super(DNNModel,self).__init__()\n",
    "#         act = torch.nn.ELU()\n",
    "#         dropout = torch.nn.Dropout(p=dropout_probability)\n",
    "\n",
    "#         self.model = torch.nn.Sequential(\n",
    "#             torch.nn.Linear(input_size, 512), torch.nn.BatchNorm1d(512), act, dropout, \n",
    "#             torch.nn.Linear(512, 1024), torch.nn.BatchNorm1d(1024), act, dropout, \n",
    "#             torch.nn.Linear(1024, 2048), torch.nn.BatchNorm1d(2048), act, dropout, \n",
    "#             torch.nn.Linear(2048, 1024), torch.nn.BatchNorm1d(1024), act, dropout,\n",
    "#             torch.nn.Linear(1024, 512), torch.nn.BatchNorm1d(512), act, dropout,\n",
    "#             torch.nn.Linear(512, 4)\n",
    "#         )\n",
    "#     def forward(self, x):\n",
    "#         return self.model(x)\n",
    " "
   ]
  },
  {
   "cell_type": "code",
   "execution_count": null,
   "metadata": {
    "ExecuteTime": {
     "end_time": "2020-01-31T02:14:30.866546Z",
     "start_time": "2020-01-31T02:14:30.860272Z"
    }
   },
   "outputs": [],
   "source": [
    "# class DNNModel(torch.nn.Module):\n",
    "#     def __init__(self, input_size, dropout_probability=0.3):\n",
    "#         super(DNNModel,self).__init__()\n",
    "#         act = torch.nn.ELU()\n",
    "#         dropout = torch.nn.Dropout(p=dropout_probability)\n",
    "\n",
    "#         self.model = torch.nn.Sequential(\n",
    "# #             torch.nn.Linear(input_size, 2048), torch.nn.BatchNorm1d(2048), act, dropout, \n",
    "#             torch.nn.Linear(input_size, 4096), torch.nn.BatchNorm1d(4096), act, dropout, \n",
    "#             torch.nn.Linear(4096, 4096), torch.nn.BatchNorm1d(4096), act, dropout,            \n",
    "#             torch.nn.Linear(4096, 2048), torch.nn.BatchNorm1d(2048), act, dropout,       \n",
    "#             torch.nn.Linear(2048, 2048), torch.nn.BatchNorm1d(2048), act, dropout, \n",
    "#             torch.nn.Linear(2048, 1024), torch.nn.BatchNorm1d(1024), act, dropout,\n",
    "#             torch.nn.Linear(1024, 1024), torch.nn.BatchNorm1d(1024), act, dropout,            \n",
    "#             torch.nn.Linear(1024, 512), torch.nn.BatchNorm1d(512), act, dropout,\n",
    "#             torch.nn.Linear(512, 512), torch.nn.BatchNorm1d(512), act, dropout,\n",
    "#             torch.nn.Linear(512, 256), torch.nn.BatchNorm1d(256), act, dropout,                        \n",
    "#             torch.nn.Linear(256, 4)\n",
    "#         )\n",
    "#     def forward(self, x):\n",
    "#         return self.model(x)\n",
    " "
   ]
  },
  {
   "cell_type": "code",
   "execution_count": null,
   "metadata": {
    "ExecuteTime": {
     "end_time": "2020-01-31T02:14:30.875496Z",
     "start_time": "2020-01-31T02:14:30.867763Z"
    }
   },
   "outputs": [],
   "source": [
    "# class DNNModel(torch.nn.Module):\n",
    "#     def __init__(self, input_size, dropout_probability=0.3):\n",
    "#         super(DNNModel,self).__init__()\n",
    "#         act = torch.nn.ELU()\n",
    "#         dropout = torch.nn.Dropout(p=dropout_probability)\n",
    "\n",
    "#         self.model = torch.nn.Sequential(\n",
    "#             torch.nn.Linear(input_size, 3000), torch.nn.BatchNorm1d(3000), act, dropout, \n",
    "#              torch.nn.Linear(3000, 3000), torch.nn.BatchNorm1d(3000), act, dropout, \n",
    "#              torch.nn.Linear(3000, 2048), torch.nn.BatchNorm1d(2048), act, dropout, \n",
    "#             torch.nn.Linear(2048, 2048), torch.nn.BatchNorm1d(2048), act, dropout, \n",
    "#             torch.nn.Linear(2048, 1500), torch.nn.BatchNorm1d(1500), act, dropout,\n",
    "#             torch.nn.Linear(1500, 1500), torch.nn.BatchNorm1d(1500), act, dropout,\n",
    "#             torch.nn.Linear(1500, 1024), torch.nn.BatchNorm1d(1024), act, dropout,\n",
    "#             torch.nn.Linear(1024, 1024), torch.nn.BatchNorm1d(1024), act, dropout,            \n",
    "#             torch.nn.Linear(1024, 1024), torch.nn.BatchNorm1d(1024), act, dropout,            \n",
    "#             torch.nn.Linear(1024, 512), torch.nn.BatchNorm1d(512), act, dropout,\n",
    "#             torch.nn.Linear(512, 512), torch.nn.BatchNorm1d(512), act, dropout,\n",
    "#             torch.nn.Linear(512, 256), torch.nn.BatchNorm1d(256), act, dropout,            \n",
    "#             torch.nn.Linear(256, 4)\n",
    "#         )\n",
    "#     def forward(self, x):\n",
    "#         return self.model(x)\n",
    " "
   ]
  },
  {
   "cell_type": "code",
   "execution_count": null,
   "metadata": {
    "ExecuteTime": {
     "end_time": "2020-01-31T02:14:30.884604Z",
     "start_time": "2020-01-31T02:14:30.876472Z"
    }
   },
   "outputs": [],
   "source": [
    "# class DNNModel(torch.nn.Module):\n",
    "#     def __init__(self, input_size, dropout_probability=0.3):\n",
    "#         super(DNNModel,self).__init__()\n",
    "#         act = torch.nn.ELU()\n",
    "#         dropout = torch.nn.Dropout(p=dropout_probability)\n",
    "\n",
    "#         self.model = torch.nn.Sequential(\n",
    "#             torch.nn.Linear(input_size, 1024), torch.nn.BatchNorm1d(1024), act,\n",
    "#             torch.nn.Linear(1024, 1024), torch.nn.BatchNorm1d(1024), act, \n",
    "#             torch.nn.Linear(1024, 1024), torch.nn.BatchNorm1d(1024), act, \n",
    "#             torch.nn.Linear(1024, 512), torch.nn.BatchNorm1d(512), act, \n",
    "#             torch.nn.Linear(512, 512), torch.nn.BatchNorm1d(512), act, \n",
    "#             torch.nn.Linear(512, 256), torch.nn.BatchNorm1d(256), act, \n",
    "#             torch.nn.Linear(256, 4)\n",
    "#         )\n",
    "#     def forward(self, x):\n",
    "#         return self.model(x)\n",
    " "
   ]
  },
  {
   "cell_type": "code",
   "execution_count": null,
   "metadata": {
    "ExecuteTime": {
     "end_time": "2020-01-31T02:14:30.893131Z",
     "start_time": "2020-01-31T02:14:30.885627Z"
    }
   },
   "outputs": [],
   "source": [
    "# class DNNModel(torch.nn.Module):\n",
    "#     def __init__(self, input_size, dropout_probability=0.3):\n",
    "#         super(DNNModel,self).__init__()\n",
    "#         act = torch.nn.ELU()\n",
    "#         dropout = torch.nn.Dropout(p=dropout_probability)\n",
    "\n",
    "#         self.model = torch.nn.Sequential(\n",
    "#             torch.nn.Linear(input_size, 1024), torch.nn.BatchNorm1d(1024), act, dropout,\n",
    "#             torch.nn.Linear(1024, 2048), torch.nn.BatchNorm1d(2048), act, dropout,\n",
    "#             torch.nn.Linear(2048, 4096), torch.nn.BatchNorm1d(4096), act, dropout,\n",
    "#             torch.nn.Linear(4096, 4)\n",
    "#         )\n",
    "#     def forward(self, x):\n",
    "#         return self.model(x)\n",
    " "
   ]
  },
  {
   "cell_type": "markdown",
   "metadata": {},
   "source": [
    "#### DataSet"
   ]
  },
  {
   "cell_type": "code",
   "execution_count": null,
   "metadata": {
    "ExecuteTime": {
     "end_time": "2020-01-31T02:14:30.899558Z",
     "start_time": "2020-01-31T02:14:30.894098Z"
    }
   },
   "outputs": [],
   "source": [
    "   \n",
    "class SemiDataset(Dataset):\n",
    "    def __init__(self, df, fea_cols, y_cols):        \n",
    "        self.X = df[fea_cols].values\n",
    "        self.y = df[y_cols].values\n",
    "        \n",
    "    def __len__(self):\n",
    "        return len(self.X)\n",
    "    \n",
    "    def __getitem__(self, idx):\n",
    "        return self.X[idx].astype(np.float32), self.y[idx].astype(np.float32)\n",
    "    "
   ]
  },
  {
   "cell_type": "markdown",
   "metadata": {},
   "source": [
    "#### Trainer"
   ]
  },
  {
   "cell_type": "code",
   "execution_count": null,
   "metadata": {
    "ExecuteTime": {
     "end_time": "2020-01-31T02:14:30.910614Z",
     "start_time": "2020-01-31T02:14:30.900515Z"
    }
   },
   "outputs": [],
   "source": [
    "class Trainer(object):\n",
    "    def __init__(self, model, criterion, optimizer, scheduler, device):\n",
    "        self.device = device\n",
    "        self.model = model#.to(self.device)\n",
    "        self.criterion = criterion#.to(self.device)\n",
    "        self.optimizer = optimizer\n",
    "        self.scheduler = scheduler\n",
    "\n",
    "        print(self.model.train())\n",
    "        pass\n",
    "    \n",
    "    def set_optimizer(self, optimizer):\n",
    "        self.optimizer = optimizer\n",
    "        \n",
    "    def set_scheduler(self, scheduler):\n",
    "        self.scheduler = scheduler\n",
    "    \n",
    "    def train(self, data_loader):\n",
    "        self.model.train()\n",
    "        total_loss = 0\n",
    "        for data in data_loader:\n",
    "            X_batch, y_batch = data\n",
    "            X_batch = X_batch.to(self.device)\n",
    "            y_batch = y_batch.to(self.device)\n",
    "            \n",
    "            y_pred = self.model(X_batch)\n",
    "#             print(y_pred, y_batch)\n",
    "            \n",
    "            loss = self.criterion(y_pred, y_batch)\n",
    "            total_loss = total_loss + loss.item()\n",
    "\n",
    "            self.optimizer.zero_grad()\n",
    "            loss.backward()\n",
    "            self.optimizer.step()\n",
    "        self.scheduler.step()\n",
    "        \n",
    "        return total_loss / len(data_loader)\n",
    "    \n",
    "    def eval(self, data_loader):\n",
    "        self.model.eval()\n",
    "        criterion = nn.L1Loss(reduction='mean').to(device)\n",
    "        total_loss = 0\n",
    "#         print('valid_loader', len(valid_loader))\n",
    "        for data in data_loader:\n",
    "            X_batch, y_batch = data\n",
    "            X_batch = X_batch.to(self.device)\n",
    "            y_batch = y_batch.to(self.device)\n",
    "            with torch.no_grad():\n",
    "                y_pred = self.model(X_batch)\n",
    "#                 loss = self.criterion(y_pred, y_batch)\n",
    "                loss = criterion(y_pred, y_batch)\n",
    "                total_loss = total_loss + loss.item()\n",
    "        return total_loss / len(data_loader)\n",
    "\n",
    "    def save(self, model_path='checkpoint.pt'):\n",
    "#         torch.save(self.model.state_dict(), 'checkpoint.pt')\n",
    "        joblib.dump(self.model, model_path)\n",
    "        return\n",
    "    \n",
    "    def load(self, model_path='checkpoint.pt'):\n",
    "#         self.model.load_state_dict(torch.load(model_path))\n",
    "        self.model = joblib.load(model_path)\n",
    "        return"
   ]
  },
  {
   "cell_type": "markdown",
   "metadata": {
    "ExecuteTime": {
     "end_time": "2020-01-14T00:57:16.154252Z",
     "start_time": "2020-01-14T00:57:16.152105Z"
    }
   },
   "source": [
    "#### Train"
   ]
  },
  {
   "cell_type": "code",
   "execution_count": null,
   "metadata": {
    "ExecuteTime": {
     "end_time": "2020-01-31T02:14:30.919306Z",
     "start_time": "2020-01-31T02:14:30.911659Z"
    }
   },
   "outputs": [],
   "source": [
    "model_ts = datetime.now().strftime('%Y%m%dT%H%M%S')\n",
    "print(model_ts)\n",
    "\n",
    "print(f'fea_size {len(fea_cols)} layer_cols {layer_cols}')"
   ]
  },
  {
   "cell_type": "code",
   "execution_count": null,
   "metadata": {
    "ExecuteTime": {
     "end_time": "2020-01-31T02:14:30.925868Z",
     "start_time": "2020-01-31T02:14:30.920241Z"
    }
   },
   "outputs": [],
   "source": [
    "torch.manual_seed(81511991154)\n",
    "torch.initial_seed()"
   ]
  },
  {
   "cell_type": "code",
   "execution_count": null,
   "metadata": {
    "ExecuteTime": {
     "end_time": "2020-01-31T02:14:31.248096Z",
     "start_time": "2020-01-31T02:14:30.926815Z"
    }
   },
   "outputs": [],
   "source": [
    "dataset = SemiDataset(df_model[fea_cols + layer_cols], fea_cols, layer_cols)\n",
    "\n",
    "train_set, val_set = torch.utils.data.random_split(dataset, [700000, 110000])\n",
    "\n",
    "print(len(train_set), len(val_set))\n",
    "\n",
    "batch_size = 70000\n",
    "# batch_size = 25000\n",
    "num_workers = 8\n",
    "\n",
    "train_loader = DataLoader(dataset=train_set, batch_size=batch_size, num_workers=num_workers, shuffle=True)\n",
    "val_loader = DataLoader(dataset=val_set, batch_size=22000)\n",
    "\n",
    "print(f'batch_size {batch_size} num_workers {num_workers}')\n",
    "print(f'train_loader {len(train_loader)} val_loader {len(val_loader)}')"
   ]
  },
  {
   "cell_type": "code",
   "execution_count": null,
   "metadata": {
    "ExecuteTime": {
     "end_time": "2020-01-31T02:14:31.251102Z",
     "start_time": "2020-01-31T02:14:31.249265Z"
    }
   },
   "outputs": [],
   "source": [
    "# train_layer = list(range(10, 300, 20))\n",
    "# train_layer_1 = list(range(0, 300, 20))\n",
    "\n",
    "# cond = (df_model['layer_1'].isin(train_layer)) & (df_model['layer_2'].isin(train_layer)) & (df_model['layer_3'].isin(train_layer)) & (df_model['layer_4'].isin(train_layer))\n",
    "# cond |= (df_model['layer_1'].isin(train_layer_1)) & (df_model['layer_2'].isin(train_layer_1)) & (df_model['layer_3'].isin(train_layer_1)) & (df_model['layer_4'].isin(train_layer_1))\n",
    "# print(df_model[cond].shape, df_model[~cond].shape)\n",
    "\n",
    "# # dataset = SemiDataset(df_model[fea_cols + layer_cols], fea_cols, layer_cols)\n",
    "\n",
    "# # train_set, val_set = torch.utils.data.random_split(dataset, [700000, 110000])\n",
    "\n",
    "# train_set = SemiDataset(df_model[cond][fea_cols + layer_cols], fea_cols, layer_cols)\n",
    "# val_set = SemiDataset(df_model[~cond][fea_cols + layer_cols], fea_cols, layer_cols)\n",
    "\n",
    "# print(len(train_set), len(val_set))\n",
    "\n",
    "# batch_size = 45000\n",
    "# num_workers = 8\n",
    "\n",
    "# train_loader = DataLoader(dataset=train_set, batch_size=batch_size, num_workers=num_workers, shuffle=True)\n",
    "# val_loader = DataLoader(dataset=val_set, batch_size=35000)\n",
    "\n",
    "# print(f'batch_size {batch_size} num_workers {num_workers}')\n",
    "# print(f'train_loader {len(train_loader)} val_loader {len(val_loader)}')"
   ]
  },
  {
   "cell_type": "code",
   "execution_count": null,
   "metadata": {
    "ExecuteTime": {
     "end_time": "2020-01-31T02:14:31.260547Z",
     "start_time": "2020-01-31T02:14:31.251912Z"
    }
   },
   "outputs": [],
   "source": [
    "# dataset = SemiDataset(df_model[fea_cols + layer_cols], fea_cols, layer_cols)\n",
    "\n",
    "# train_set = dataset\n",
    "\n",
    "# print(len(train_set))\n",
    "\n",
    "# batch_size = 30000\n",
    "# num_workers = 4\n",
    "\n",
    "# train_loader = DataLoader(dataset=train_set, batch_size=batch_size, num_workers=num_workers)\n",
    "\n",
    "# print(f'batch_size {batch_size} num_workers {num_workers}')\n",
    "# print(f'train_loader {len(train_loader)}')"
   ]
  },
  {
   "cell_type": "code",
   "execution_count": null,
   "metadata": {
    "ExecuteTime": {
     "end_time": "2020-01-31T02:14:33.184079Z",
     "start_time": "2020-01-31T02:14:31.261550Z"
    }
   },
   "outputs": [],
   "source": [
    "model = DNNModel(input_size=len(fea_cols), dropout_probability=0).to(device)\n",
    "\n",
    "model = joblib.load('model/20200130T231636_0.4657942712306976.model')\n",
    "\n"
   ]
  },
  {
   "cell_type": "code",
   "execution_count": null,
   "metadata": {
    "ExecuteTime": {
     "end_time": "2020-01-31T02:14:33.186966Z",
     "start_time": "2020-01-31T02:14:33.185150Z"
    }
   },
   "outputs": [],
   "source": [
    "# val_loss_min = np.Inf\n",
    "val_loss_min = 0.4657942712306976"
   ]
  },
  {
   "cell_type": "code",
   "execution_count": null,
   "metadata": {
    "ExecuteTime": {
     "end_time": "2020-01-31T02:14:33.195261Z",
     "start_time": "2020-01-31T02:14:33.187862Z"
    },
    "scrolled": false
   },
   "outputs": [],
   "source": [
    "criterion = nn.L1Loss(reduction='mean').to(device)\n",
    "# criterion = nn.MSELoss(reduction='mean').to(device)\n",
    "\n",
    "optimizer = torch.optim.AdamW(model.parameters(), lr=0.1)\n",
    "scheduler = StepLR(optimizer, step_size=50, gamma=1.0)\n",
    "trainer = Trainer(model, criterion, optimizer, scheduler, device)\n"
   ]
  },
  {
   "cell_type": "code",
   "execution_count": null,
   "metadata": {
    "ExecuteTime": {
     "end_time": "2020-01-31T02:14:33.204853Z",
     "start_time": "2020-01-31T02:14:33.196298Z"
    }
   },
   "outputs": [],
   "source": [
    "lr_list = [\n",
    "#     (0.01, 100),\n",
    "#     (0.001, 100),\n",
    "#     (0.0001, 100),\n",
    "    (0.00003, 50),\n",
    "    (0.00001, 50),\n",
    "    (0.000005, 50),\n",
    "]\n"
   ]
  },
  {
   "cell_type": "code",
   "execution_count": null,
   "metadata": {
    "ExecuteTime": {
     "end_time": "2020-01-31T02:14:33.210826Z",
     "start_time": "2020-01-31T02:14:33.206014Z"
    }
   },
   "outputs": [],
   "source": [
    "# trainer.load('model/20200126T224137_1.8200454061681575.model')\n",
    "# val_loss_min = trainer.eval(val_loader)\n",
    "# val_loss_min\n",
    "\n",
    "# model.load_state_dict(torch.load('model/20200126T111356_0.3797373235225677.pt'))\n",
    "# trainer.model = model\n",
    "# val_loss_min = trainer.eval(val_loader)\n",
    "# val_loss_min\n",
    "\n",
    "# trainer.save('model/20200126T111356_0.3797373235225677.model')\n",
    "\n",
    "# trainer.eval(val_loader)"
   ]
  },
  {
   "cell_type": "code",
   "execution_count": null,
   "metadata": {
    "ExecuteTime": {
     "end_time": "2020-01-31T03:47:16.909507Z",
     "start_time": "2020-01-31T02:14:33.211938Z"
    },
    "scrolled": true
   },
   "outputs": [],
   "source": [
    "total_epoch = 10000\n",
    "\n",
    "for lr, patience in lr_list:\n",
    "    print(lr, patience)\n",
    "    if os.path.isfile('stop.flag'):\n",
    "        print('stop!')\n",
    "        break\n",
    "    \n",
    "    early_stopping = EarlyStopping(patience=patience, min_epoch=1, verbose=True)\n",
    "    early_stopping.val_loss_min = val_loss_min\n",
    "    early_stopping.best_score = None if val_loss_min==np.Inf else -val_loss_min \n",
    "    \n",
    "#     criterion = nn.L1Loss(reduction='mean').to(device)\n",
    "\n",
    "    trainer.optimizer = torch.optim.Adam(model.parameters(), lr=lr)\n",
    "#     trainer.optimizer = torch.optim.AdamW(model.parameters(), lr=lr)\n",
    "#     trainer.optimizer = torch.optim.SGD(model.parameters(), lr=lr)\n",
    "\n",
    "    trainer.scheduler = StepLR(trainer.optimizer, step_size=50, gamma=1.0)\n",
    "    \n",
    "    for e in tqdm_notebook(range(total_epoch), total=total_epoch, desc='Epoch'):\n",
    "        if os.path.isfile('stop.flag'):\n",
    "            print(f'{e} stop!')\n",
    "            break\n",
    "\n",
    "        train_loss = trainer.train(train_loader)\n",
    "        \n",
    "        if e % 1 == 0:\n",
    "            valid_loss = trainer.eval(val_loader)\n",
    "    #         valid_loss = train_loss\n",
    "\n",
    "            ts = datetime.now().strftime('%Y%m%dT%H%M%S')\n",
    "            print(f'[{ts}] Epock {e} / {total_epoch}\\t lr {trainer.scheduler.get_lr()[0]}')\n",
    "            print(f'  train_loss: {train_loss}  valid_loss: {valid_loss}')\n",
    "\n",
    "            early_stopping(valid_loss, model)\n",
    "\n",
    "            if early_stopping.early_stop:\n",
    "                print(\"\\tEarly stopping epoch {}, valid loss {}\".format(e, early_stopping.val_loss_min))\n",
    "                break\n",
    "            \n",
    "\n",
    "    model.load_state_dict(torch.load('model/checkpoint.pt'))\n",
    "#     trainer.load('model/checkpoint.pt')\n",
    "    val_loss_min = early_stopping.val_loss_min\n",
    "    \n",
    "    \n",
    "    model_path = 'model/{}_{}'.format(model_ts, val_loss_min)\n",
    "#     joblib.dump(model, '{}.model'.format(model_path))\n",
    "#     torch.save(model.state_dict(), '{}.pt'.format(model_path))\n",
    "    trainer.save('{}.model'.format(model_path))\n",
    "    print(model_path)\n",
    "\n",
    "    # torch.save(model.state_dict(), f'checkpoint.pt.{train_loss}')\n",
    "    "
   ]
  },
  {
   "cell_type": "code",
   "execution_count": null,
   "metadata": {
    "ExecuteTime": {
     "end_time": "2020-01-31T03:47:16.912005Z",
     "start_time": "2020-01-31T03:47:16.910333Z"
    }
   },
   "outputs": [],
   "source": [
    "# 20200128T020612_0.6743781241503629.model\n",
    "# 20200128T020612_0.9563284516334534.model\n",
    "# 20200128T020612_1.077946825460954.model\n",
    "# 20200128T020612_1.254012335430492.model\n",
    "# 20200128T020612_3.721324747258967.model"
   ]
  },
  {
   "cell_type": "code",
   "execution_count": null,
   "metadata": {
    "ExecuteTime": {
     "end_time": "2020-01-31T03:47:16.959547Z",
     "start_time": "2020-01-31T03:47:16.912846Z"
    }
   },
   "outputs": [],
   "source": [
    "model.eval()\n",
    "y_pred = model(torch.Tensor(df_test[fea_cols].values).to(device))    \n",
    "print(y_pred)"
   ]
  },
  {
   "cell_type": "code",
   "execution_count": null,
   "metadata": {
    "ExecuteTime": {
     "end_time": "2020-01-31T03:47:17.008764Z",
     "start_time": "2020-01-31T03:47:16.960798Z"
    }
   },
   "outputs": [],
   "source": [
    "ts = datetime.now().strftime('%Y%m%dT%H%M%S')\n",
    "\n",
    "df_submit = pd.read_csv('input/sample_submission.csv', index_col=0)\n",
    "\n",
    "df_submit[layer_cols] = y_pred.cpu().detach().numpy()\n",
    "df_submit.to_csv(f'submit/{ts}_{early_stopping.val_loss_min}.csv')\n",
    "\n",
    "print(ts, early_stopping.val_loss_min)"
   ]
  },
  {
   "cell_type": "code",
   "execution_count": null,
   "metadata": {
    "ExecuteTime": {
     "end_time": "2020-01-31T03:47:17.011264Z",
     "start_time": "2020-01-31T03:47:17.009763Z"
    }
   },
   "outputs": [],
   "source": [
    "# !/home/aiden/anaconda3/bin/jupyter nbconvert --to script deep_v1_nodropout.ipynb\n"
   ]
  },
  {
   "cell_type": "code",
   "execution_count": null,
   "metadata": {
    "ExecuteTime": {
     "end_time": "2020-01-31T03:47:17.166386Z",
     "start_time": "2020-01-31T03:47:17.012020Z"
    }
   },
   "outputs": [],
   "source": [
    "!cat deep_v1_nodropout.py"
   ]
  },
  {
   "cell_type": "code",
   "execution_count": null,
   "metadata": {
    "ExecuteTime": {
     "end_time": "2020-01-31T03:47:17.169894Z",
     "start_time": "2020-01-31T03:47:17.167912Z"
    }
   },
   "outputs": [],
   "source": [
    "# nohup python deep_v1_nodropout.py &"
   ]
  },
  {
   "cell_type": "code",
   "execution_count": null,
   "metadata": {},
   "outputs": [],
   "source": []
  }
 ],
 "metadata": {
  "kernelspec": {
   "display_name": "Python 3",
   "language": "python",
   "name": "python3"
  },
  "language_info": {
   "codemirror_mode": {
    "name": "ipython",
    "version": 3
   },
   "file_extension": ".py",
   "mimetype": "text/x-python",
   "name": "python",
   "nbconvert_exporter": "python",
   "pygments_lexer": "ipython3",
   "version": "3.7.4"
  },
  "toc": {
   "base_numbering": 1,
   "nav_menu": {},
   "number_sections": true,
   "sideBar": true,
   "skip_h1_title": false,
   "title_cell": "Table of Contents",
   "title_sidebar": "Contents",
   "toc_cell": false,
   "toc_position": {
    "height": "calc(100% - 180px)",
    "left": "10px",
    "top": "150px",
    "width": "166px"
   },
   "toc_section_display": true,
   "toc_window_display": true
  }
 },
 "nbformat": 4,
 "nbformat_minor": 2
}
